{
  "cells": [
    {
      "cell_type": "markdown",
      "metadata": {
        "id": "ANhAFjMrc46Z"
      },
      "source": [
        "# Latar Belakang\n",
        "Dataset ini adalah kumpulan data e-commerce ritel terbesar dari Pakistan. Dataset ini berisi setengah juta catatan transaksi dari Maret 2016 hingga Agustus 2018. Dataset ini dirilis oleh author sehingga para data analis dapat melakukan analisis terhadap Data E-Comerce di Pakistan."
      ]
    },
    {
      "cell_type": "markdown",
      "metadata": {
        "id": "6mjDpIeUc46e"
      },
      "source": [
        "## Pernyataan Masalah\n",
        "Kita akan menjawab pertanyaan berikut:\n",
        "* Bagaimanakah cara untuk meningkatkan nilai penjualan?"
      ]
    },
    {
      "cell_type": "markdown",
      "source": [
        "## Import Library"
      ],
      "metadata": {
        "id": "GyAmne4WYcku"
      }
    },
    {
      "cell_type": "code",
      "execution_count": 72,
      "metadata": {
        "id": "QXhgagJ-c46m"
      },
      "outputs": [],
      "source": [
        "import pandas as pd\n",
        "import numpy as np\n",
        "import matplotlib.pyplot as plt\n",
        "import seaborn as sns\n",
        "from scipy.stats import normaltest\n",
        "\n",
        "import warnings\n",
        "warnings.filterwarnings(\"ignore\")"
      ]
    },
    {
      "cell_type": "markdown",
      "metadata": {
        "id": "GWG6KMWLc46r"
      },
      "source": [
        "## Data Understanding and Cleaning"
      ]
    },
    {
      "cell_type": "markdown",
      "metadata": {
        "id": "4MXiDf_Sc46n"
      },
      "source": [
        "Dataset ini berisi informasi terkait demografis, edukasi dan pengalaman kerja kandidat yang diisi ketika peserta mendaftar untuk ikut pelatihan. Ada 14 kolom di dalam dataset hr_analytics, yaitu:  \n",
        "\n",
        "1. Item_id : Nomor urut dari barcode barang yang dipesan\n",
        "1. Status : Status barang yang dipesan\n",
        "1. Created_at : Tanggal dilakukannya pemesanan barang\n",
        "1. Sku : kode unik yang terdiri dari huruf dan angka yang mengidentifikasi karakteristik setiap produk.\n",
        "1. Price : Harga tiap unit dari produk yang dijual\n",
        "1. Qty_ordered : Jumlah total unit barang yang dipesan\n",
        "1. Grand_total : Total harga keseluruhan yang dibayar oleh customer\n",
        "1. Increment_id : kode struk\n",
        "1. Category_name_1 : Kategori barang\n",
        "1. Sales_commision_code : Kode komisi penjualan\n",
        "1. Discount_amount : jumlah diskon yang diberikan\n",
        "1. Payment_method : metode pembayaran\n",
        "1. Working_date : Jam kerja\n",
        "1. BI_Status : Memberikan informasi terkait kelanjutan proses pemesanan barang\n",
        "1. MV : Harga satuan produk\n",
        "1. Year : Tahun customer bergabung\n",
        "1. Month : Bulan customer bergabung\n",
        "1. Customer_since : informasi tanggal,bulan dan tahun customer bergabung\n",
        "1. M-Y : informasi tentang bulan dan tahun terjadinya transaksi\n",
        "1. FY : tahun fiskal perusahaan\n",
        "1. Customer_ID : Nomor customer\n",
        "1. Unnamed : 21 : Empty Column\n",
        "1. Unnamed : 22 : Empty Column\n",
        "1. Unnamed : 23 : Empty Column\n",
        "1. Unnamed : 24 : Empty Column\n",
        "1. Unnamed : 25 : Empty Column\n",
        "\n",
        "Berikut 5 baris teratas dan terbawah dari dataset hr_analitycs."
      ]
    },
    {
      "cell_type": "code",
      "source": [
        "!gdown 1zuBOhR0pp0vqezvd5fmJX8NEMjaLunVq"
      ],
      "metadata": {
        "colab": {
          "base_uri": "https://localhost:8080/"
        },
        "id": "5LjGsF1ve8aC",
        "outputId": "881dfa95-59ce-47b8-a8d0-05ec0345111c"
      },
      "execution_count": 73,
      "outputs": [
        {
          "output_type": "stream",
          "name": "stdout",
          "text": [
            "Downloading...\n",
            "From: https://drive.google.com/uc?id=1zuBOhR0pp0vqezvd5fmJX8NEMjaLunVq\n",
            "To: /content/Pakistan Largest Ecommerce Dataset.csv\n",
            "100% 107M/107M [00:00<00:00, 211MB/s] \n"
          ]
        }
      ]
    },
    {
      "cell_type": "code",
      "execution_count": 74,
      "metadata": {
        "id": "6sZFj9dRc46p",
        "outputId": "41ca7996-f3c1-4d82-e1c1-fa35d3235cc8",
        "colab": {
          "base_uri": "https://localhost:8080/",
          "height": 709
        }
      },
      "outputs": [
        {
          "output_type": "display_data",
          "data": {
            "text/plain": [
              "    item_id          status created_at  \\\n",
              "0  211131.0  complete        7/1/2016    \n",
              "1  211133.0  canceled        7/1/2016    \n",
              "2  211134.0  canceled        7/1/2016    \n",
              "3  211135.0  complete        7/1/2016    \n",
              "4  211136.0  order_refunded  7/1/2016    \n",
              "\n",
              "                                                           sku   price  \\\n",
              "0  kreations_YI 06-L                                            1950.0   \n",
              "1  kcc_Buy 2 Frey Air Freshener & Get 1 Kasual Body Spray Free  240.0    \n",
              "2  Ego_UP0017-999-MR0                                           2450.0   \n",
              "3  kcc_krone deal                                               360.0    \n",
              "4  BK7010400AG                                                  555.0    \n",
              "\n",
              "   qty_ordered  grand_total increment_id    category_name_1  \\\n",
              "0  1.0          1950.0       100147443    Women's Fashion     \n",
              "1  1.0          240.0        100147444    Beauty & Grooming   \n",
              "2  1.0          2450.0       100147445    Women's Fashion     \n",
              "3  1.0          60.0         100147446    Beauty & Grooming   \n",
              "4  2.0          1110.0       100147447    Soghaat             \n",
              "\n",
              "  sales_commission_code  ...  Month Customer Since     M-Y    FY Customer ID  \\\n",
              "0  \\N                    ...  7.0    2016-7         7-2016  FY17  1.0          \n",
              "1  \\N                    ...  7.0    2016-7         7-2016  FY17  2.0          \n",
              "2  \\N                    ...  7.0    2016-7         7-2016  FY17  3.0          \n",
              "3  R-FSD-52352           ...  7.0    2016-7         7-2016  FY17  4.0          \n",
              "4  \\N                    ...  7.0    2016-7         7-2016  FY17  5.0          \n",
              "\n",
              "   Unnamed: 21  Unnamed: 22 Unnamed: 23 Unnamed: 24 Unnamed: 25  \n",
              "0 NaN          NaN          NaN         NaN         NaN          \n",
              "1 NaN          NaN          NaN         NaN         NaN          \n",
              "2 NaN          NaN          NaN         NaN         NaN          \n",
              "3 NaN          NaN          NaN         NaN         NaN          \n",
              "4 NaN          NaN          NaN         NaN         NaN          \n",
              "\n",
              "[5 rows x 26 columns]"
            ],
            "text/html": [
              "\n",
              "  <div id=\"df-f848c40f-076c-4b6e-a2f0-47ac06ab1f6d\">\n",
              "    <div class=\"colab-df-container\">\n",
              "      <div>\n",
              "<style scoped>\n",
              "    .dataframe tbody tr th:only-of-type {\n",
              "        vertical-align: middle;\n",
              "    }\n",
              "\n",
              "    .dataframe tbody tr th {\n",
              "        vertical-align: top;\n",
              "    }\n",
              "\n",
              "    .dataframe thead th {\n",
              "        text-align: right;\n",
              "    }\n",
              "</style>\n",
              "<table border=\"1\" class=\"dataframe\">\n",
              "  <thead>\n",
              "    <tr style=\"text-align: right;\">\n",
              "      <th></th>\n",
              "      <th>item_id</th>\n",
              "      <th>status</th>\n",
              "      <th>created_at</th>\n",
              "      <th>sku</th>\n",
              "      <th>price</th>\n",
              "      <th>qty_ordered</th>\n",
              "      <th>grand_total</th>\n",
              "      <th>increment_id</th>\n",
              "      <th>category_name_1</th>\n",
              "      <th>sales_commission_code</th>\n",
              "      <th>...</th>\n",
              "      <th>Month</th>\n",
              "      <th>Customer Since</th>\n",
              "      <th>M-Y</th>\n",
              "      <th>FY</th>\n",
              "      <th>Customer ID</th>\n",
              "      <th>Unnamed: 21</th>\n",
              "      <th>Unnamed: 22</th>\n",
              "      <th>Unnamed: 23</th>\n",
              "      <th>Unnamed: 24</th>\n",
              "      <th>Unnamed: 25</th>\n",
              "    </tr>\n",
              "  </thead>\n",
              "  <tbody>\n",
              "    <tr>\n",
              "      <th>0</th>\n",
              "      <td>211131.0</td>\n",
              "      <td>complete</td>\n",
              "      <td>7/1/2016</td>\n",
              "      <td>kreations_YI 06-L</td>\n",
              "      <td>1950.0</td>\n",
              "      <td>1.0</td>\n",
              "      <td>1950.0</td>\n",
              "      <td>100147443</td>\n",
              "      <td>Women's Fashion</td>\n",
              "      <td>\\N</td>\n",
              "      <td>...</td>\n",
              "      <td>7.0</td>\n",
              "      <td>2016-7</td>\n",
              "      <td>7-2016</td>\n",
              "      <td>FY17</td>\n",
              "      <td>1.0</td>\n",
              "      <td>NaN</td>\n",
              "      <td>NaN</td>\n",
              "      <td>NaN</td>\n",
              "      <td>NaN</td>\n",
              "      <td>NaN</td>\n",
              "    </tr>\n",
              "    <tr>\n",
              "      <th>1</th>\n",
              "      <td>211133.0</td>\n",
              "      <td>canceled</td>\n",
              "      <td>7/1/2016</td>\n",
              "      <td>kcc_Buy 2 Frey Air Freshener &amp; Get 1 Kasual Body Spray Free</td>\n",
              "      <td>240.0</td>\n",
              "      <td>1.0</td>\n",
              "      <td>240.0</td>\n",
              "      <td>100147444</td>\n",
              "      <td>Beauty &amp; Grooming</td>\n",
              "      <td>\\N</td>\n",
              "      <td>...</td>\n",
              "      <td>7.0</td>\n",
              "      <td>2016-7</td>\n",
              "      <td>7-2016</td>\n",
              "      <td>FY17</td>\n",
              "      <td>2.0</td>\n",
              "      <td>NaN</td>\n",
              "      <td>NaN</td>\n",
              "      <td>NaN</td>\n",
              "      <td>NaN</td>\n",
              "      <td>NaN</td>\n",
              "    </tr>\n",
              "    <tr>\n",
              "      <th>2</th>\n",
              "      <td>211134.0</td>\n",
              "      <td>canceled</td>\n",
              "      <td>7/1/2016</td>\n",
              "      <td>Ego_UP0017-999-MR0</td>\n",
              "      <td>2450.0</td>\n",
              "      <td>1.0</td>\n",
              "      <td>2450.0</td>\n",
              "      <td>100147445</td>\n",
              "      <td>Women's Fashion</td>\n",
              "      <td>\\N</td>\n",
              "      <td>...</td>\n",
              "      <td>7.0</td>\n",
              "      <td>2016-7</td>\n",
              "      <td>7-2016</td>\n",
              "      <td>FY17</td>\n",
              "      <td>3.0</td>\n",
              "      <td>NaN</td>\n",
              "      <td>NaN</td>\n",
              "      <td>NaN</td>\n",
              "      <td>NaN</td>\n",
              "      <td>NaN</td>\n",
              "    </tr>\n",
              "    <tr>\n",
              "      <th>3</th>\n",
              "      <td>211135.0</td>\n",
              "      <td>complete</td>\n",
              "      <td>7/1/2016</td>\n",
              "      <td>kcc_krone deal</td>\n",
              "      <td>360.0</td>\n",
              "      <td>1.0</td>\n",
              "      <td>60.0</td>\n",
              "      <td>100147446</td>\n",
              "      <td>Beauty &amp; Grooming</td>\n",
              "      <td>R-FSD-52352</td>\n",
              "      <td>...</td>\n",
              "      <td>7.0</td>\n",
              "      <td>2016-7</td>\n",
              "      <td>7-2016</td>\n",
              "      <td>FY17</td>\n",
              "      <td>4.0</td>\n",
              "      <td>NaN</td>\n",
              "      <td>NaN</td>\n",
              "      <td>NaN</td>\n",
              "      <td>NaN</td>\n",
              "      <td>NaN</td>\n",
              "    </tr>\n",
              "    <tr>\n",
              "      <th>4</th>\n",
              "      <td>211136.0</td>\n",
              "      <td>order_refunded</td>\n",
              "      <td>7/1/2016</td>\n",
              "      <td>BK7010400AG</td>\n",
              "      <td>555.0</td>\n",
              "      <td>2.0</td>\n",
              "      <td>1110.0</td>\n",
              "      <td>100147447</td>\n",
              "      <td>Soghaat</td>\n",
              "      <td>\\N</td>\n",
              "      <td>...</td>\n",
              "      <td>7.0</td>\n",
              "      <td>2016-7</td>\n",
              "      <td>7-2016</td>\n",
              "      <td>FY17</td>\n",
              "      <td>5.0</td>\n",
              "      <td>NaN</td>\n",
              "      <td>NaN</td>\n",
              "      <td>NaN</td>\n",
              "      <td>NaN</td>\n",
              "      <td>NaN</td>\n",
              "    </tr>\n",
              "  </tbody>\n",
              "</table>\n",
              "<p>5 rows × 26 columns</p>\n",
              "</div>\n",
              "      <button class=\"colab-df-convert\" onclick=\"convertToInteractive('df-f848c40f-076c-4b6e-a2f0-47ac06ab1f6d')\"\n",
              "              title=\"Convert this dataframe to an interactive table.\"\n",
              "              style=\"display:none;\">\n",
              "        \n",
              "  <svg xmlns=\"http://www.w3.org/2000/svg\" height=\"24px\"viewBox=\"0 0 24 24\"\n",
              "       width=\"24px\">\n",
              "    <path d=\"M0 0h24v24H0V0z\" fill=\"none\"/>\n",
              "    <path d=\"M18.56 5.44l.94 2.06.94-2.06 2.06-.94-2.06-.94-.94-2.06-.94 2.06-2.06.94zm-11 1L8.5 8.5l.94-2.06 2.06-.94-2.06-.94L8.5 2.5l-.94 2.06-2.06.94zm10 10l.94 2.06.94-2.06 2.06-.94-2.06-.94-.94-2.06-.94 2.06-2.06.94z\"/><path d=\"M17.41 7.96l-1.37-1.37c-.4-.4-.92-.59-1.43-.59-.52 0-1.04.2-1.43.59L10.3 9.45l-7.72 7.72c-.78.78-.78 2.05 0 2.83L4 21.41c.39.39.9.59 1.41.59.51 0 1.02-.2 1.41-.59l7.78-7.78 2.81-2.81c.8-.78.8-2.07 0-2.86zM5.41 20L4 18.59l7.72-7.72 1.47 1.35L5.41 20z\"/>\n",
              "  </svg>\n",
              "      </button>\n",
              "      \n",
              "  <style>\n",
              "    .colab-df-container {\n",
              "      display:flex;\n",
              "      flex-wrap:wrap;\n",
              "      gap: 12px;\n",
              "    }\n",
              "\n",
              "    .colab-df-convert {\n",
              "      background-color: #E8F0FE;\n",
              "      border: none;\n",
              "      border-radius: 50%;\n",
              "      cursor: pointer;\n",
              "      display: none;\n",
              "      fill: #1967D2;\n",
              "      height: 32px;\n",
              "      padding: 0 0 0 0;\n",
              "      width: 32px;\n",
              "    }\n",
              "\n",
              "    .colab-df-convert:hover {\n",
              "      background-color: #E2EBFA;\n",
              "      box-shadow: 0px 1px 2px rgba(60, 64, 67, 0.3), 0px 1px 3px 1px rgba(60, 64, 67, 0.15);\n",
              "      fill: #174EA6;\n",
              "    }\n",
              "\n",
              "    [theme=dark] .colab-df-convert {\n",
              "      background-color: #3B4455;\n",
              "      fill: #D2E3FC;\n",
              "    }\n",
              "\n",
              "    [theme=dark] .colab-df-convert:hover {\n",
              "      background-color: #434B5C;\n",
              "      box-shadow: 0px 1px 3px 1px rgba(0, 0, 0, 0.15);\n",
              "      filter: drop-shadow(0px 1px 2px rgba(0, 0, 0, 0.3));\n",
              "      fill: #FFFFFF;\n",
              "    }\n",
              "  </style>\n",
              "\n",
              "      <script>\n",
              "        const buttonEl =\n",
              "          document.querySelector('#df-f848c40f-076c-4b6e-a2f0-47ac06ab1f6d button.colab-df-convert');\n",
              "        buttonEl.style.display =\n",
              "          google.colab.kernel.accessAllowed ? 'block' : 'none';\n",
              "\n",
              "        async function convertToInteractive(key) {\n",
              "          const element = document.querySelector('#df-f848c40f-076c-4b6e-a2f0-47ac06ab1f6d');\n",
              "          const dataTable =\n",
              "            await google.colab.kernel.invokeFunction('convertToInteractive',\n",
              "                                                     [key], {});\n",
              "          if (!dataTable) return;\n",
              "\n",
              "          const docLinkHtml = 'Like what you see? Visit the ' +\n",
              "            '<a target=\"_blank\" href=https://colab.research.google.com/notebooks/data_table.ipynb>data table notebook</a>'\n",
              "            + ' to learn more about interactive tables.';\n",
              "          element.innerHTML = '';\n",
              "          dataTable['output_type'] = 'display_data';\n",
              "          await google.colab.output.renderOutput(dataTable, element);\n",
              "          const docLink = document.createElement('div');\n",
              "          docLink.innerHTML = docLinkHtml;\n",
              "          element.appendChild(docLink);\n",
              "        }\n",
              "      </script>\n",
              "    </div>\n",
              "  </div>\n",
              "  "
            ]
          },
          "metadata": {}
        },
        {
          "output_type": "display_data",
          "data": {
            "text/plain": [
              "         item_id status created_at  sku  price  qty_ordered  grand_total  \\\n",
              "1048570 NaN       NaN    NaN        NaN NaN    NaN          NaN            \n",
              "1048571 NaN       NaN    NaN        NaN NaN    NaN          NaN            \n",
              "1048572 NaN       NaN    NaN        NaN NaN    NaN          NaN            \n",
              "1048573 NaN       NaN    NaN        NaN NaN    NaN          NaN            \n",
              "1048574 NaN       NaN    NaN        NaN NaN    NaN          NaN            \n",
              "\n",
              "        increment_id category_name_1 sales_commission_code  ...  Month  \\\n",
              "1048570  NaN          NaN             NaN                   ... NaN      \n",
              "1048571  NaN          NaN             NaN                   ... NaN      \n",
              "1048572  NaN          NaN             NaN                   ... NaN      \n",
              "1048573  NaN          NaN             NaN                   ... NaN      \n",
              "1048574  NaN          NaN             NaN                   ... NaN      \n",
              "\n",
              "        Customer Since  M-Y   FY Customer ID  Unnamed: 21  Unnamed: 22  \\\n",
              "1048570  NaN            NaN  NaN NaN         NaN          NaN            \n",
              "1048571  NaN            NaN  NaN NaN         NaN          NaN            \n",
              "1048572  NaN            NaN  NaN NaN         NaN          NaN            \n",
              "1048573  NaN            NaN  NaN NaN         NaN          NaN            \n",
              "1048574  NaN            NaN  NaN NaN         NaN          NaN            \n",
              "\n",
              "        Unnamed: 23 Unnamed: 24 Unnamed: 25  \n",
              "1048570 NaN         NaN         NaN          \n",
              "1048571 NaN         NaN         NaN          \n",
              "1048572 NaN         NaN         NaN          \n",
              "1048573 NaN         NaN         NaN          \n",
              "1048574 NaN         NaN         NaN          \n",
              "\n",
              "[5 rows x 26 columns]"
            ],
            "text/html": [
              "\n",
              "  <div id=\"df-dc69b031-0e4d-473e-b7e6-06b5af784ab1\">\n",
              "    <div class=\"colab-df-container\">\n",
              "      <div>\n",
              "<style scoped>\n",
              "    .dataframe tbody tr th:only-of-type {\n",
              "        vertical-align: middle;\n",
              "    }\n",
              "\n",
              "    .dataframe tbody tr th {\n",
              "        vertical-align: top;\n",
              "    }\n",
              "\n",
              "    .dataframe thead th {\n",
              "        text-align: right;\n",
              "    }\n",
              "</style>\n",
              "<table border=\"1\" class=\"dataframe\">\n",
              "  <thead>\n",
              "    <tr style=\"text-align: right;\">\n",
              "      <th></th>\n",
              "      <th>item_id</th>\n",
              "      <th>status</th>\n",
              "      <th>created_at</th>\n",
              "      <th>sku</th>\n",
              "      <th>price</th>\n",
              "      <th>qty_ordered</th>\n",
              "      <th>grand_total</th>\n",
              "      <th>increment_id</th>\n",
              "      <th>category_name_1</th>\n",
              "      <th>sales_commission_code</th>\n",
              "      <th>...</th>\n",
              "      <th>Month</th>\n",
              "      <th>Customer Since</th>\n",
              "      <th>M-Y</th>\n",
              "      <th>FY</th>\n",
              "      <th>Customer ID</th>\n",
              "      <th>Unnamed: 21</th>\n",
              "      <th>Unnamed: 22</th>\n",
              "      <th>Unnamed: 23</th>\n",
              "      <th>Unnamed: 24</th>\n",
              "      <th>Unnamed: 25</th>\n",
              "    </tr>\n",
              "  </thead>\n",
              "  <tbody>\n",
              "    <tr>\n",
              "      <th>1048570</th>\n",
              "      <td>NaN</td>\n",
              "      <td>NaN</td>\n",
              "      <td>NaN</td>\n",
              "      <td>NaN</td>\n",
              "      <td>NaN</td>\n",
              "      <td>NaN</td>\n",
              "      <td>NaN</td>\n",
              "      <td>NaN</td>\n",
              "      <td>NaN</td>\n",
              "      <td>NaN</td>\n",
              "      <td>...</td>\n",
              "      <td>NaN</td>\n",
              "      <td>NaN</td>\n",
              "      <td>NaN</td>\n",
              "      <td>NaN</td>\n",
              "      <td>NaN</td>\n",
              "      <td>NaN</td>\n",
              "      <td>NaN</td>\n",
              "      <td>NaN</td>\n",
              "      <td>NaN</td>\n",
              "      <td>NaN</td>\n",
              "    </tr>\n",
              "    <tr>\n",
              "      <th>1048571</th>\n",
              "      <td>NaN</td>\n",
              "      <td>NaN</td>\n",
              "      <td>NaN</td>\n",
              "      <td>NaN</td>\n",
              "      <td>NaN</td>\n",
              "      <td>NaN</td>\n",
              "      <td>NaN</td>\n",
              "      <td>NaN</td>\n",
              "      <td>NaN</td>\n",
              "      <td>NaN</td>\n",
              "      <td>...</td>\n",
              "      <td>NaN</td>\n",
              "      <td>NaN</td>\n",
              "      <td>NaN</td>\n",
              "      <td>NaN</td>\n",
              "      <td>NaN</td>\n",
              "      <td>NaN</td>\n",
              "      <td>NaN</td>\n",
              "      <td>NaN</td>\n",
              "      <td>NaN</td>\n",
              "      <td>NaN</td>\n",
              "    </tr>\n",
              "    <tr>\n",
              "      <th>1048572</th>\n",
              "      <td>NaN</td>\n",
              "      <td>NaN</td>\n",
              "      <td>NaN</td>\n",
              "      <td>NaN</td>\n",
              "      <td>NaN</td>\n",
              "      <td>NaN</td>\n",
              "      <td>NaN</td>\n",
              "      <td>NaN</td>\n",
              "      <td>NaN</td>\n",
              "      <td>NaN</td>\n",
              "      <td>...</td>\n",
              "      <td>NaN</td>\n",
              "      <td>NaN</td>\n",
              "      <td>NaN</td>\n",
              "      <td>NaN</td>\n",
              "      <td>NaN</td>\n",
              "      <td>NaN</td>\n",
              "      <td>NaN</td>\n",
              "      <td>NaN</td>\n",
              "      <td>NaN</td>\n",
              "      <td>NaN</td>\n",
              "    </tr>\n",
              "    <tr>\n",
              "      <th>1048573</th>\n",
              "      <td>NaN</td>\n",
              "      <td>NaN</td>\n",
              "      <td>NaN</td>\n",
              "      <td>NaN</td>\n",
              "      <td>NaN</td>\n",
              "      <td>NaN</td>\n",
              "      <td>NaN</td>\n",
              "      <td>NaN</td>\n",
              "      <td>NaN</td>\n",
              "      <td>NaN</td>\n",
              "      <td>...</td>\n",
              "      <td>NaN</td>\n",
              "      <td>NaN</td>\n",
              "      <td>NaN</td>\n",
              "      <td>NaN</td>\n",
              "      <td>NaN</td>\n",
              "      <td>NaN</td>\n",
              "      <td>NaN</td>\n",
              "      <td>NaN</td>\n",
              "      <td>NaN</td>\n",
              "      <td>NaN</td>\n",
              "    </tr>\n",
              "    <tr>\n",
              "      <th>1048574</th>\n",
              "      <td>NaN</td>\n",
              "      <td>NaN</td>\n",
              "      <td>NaN</td>\n",
              "      <td>NaN</td>\n",
              "      <td>NaN</td>\n",
              "      <td>NaN</td>\n",
              "      <td>NaN</td>\n",
              "      <td>NaN</td>\n",
              "      <td>NaN</td>\n",
              "      <td>NaN</td>\n",
              "      <td>...</td>\n",
              "      <td>NaN</td>\n",
              "      <td>NaN</td>\n",
              "      <td>NaN</td>\n",
              "      <td>NaN</td>\n",
              "      <td>NaN</td>\n",
              "      <td>NaN</td>\n",
              "      <td>NaN</td>\n",
              "      <td>NaN</td>\n",
              "      <td>NaN</td>\n",
              "      <td>NaN</td>\n",
              "    </tr>\n",
              "  </tbody>\n",
              "</table>\n",
              "<p>5 rows × 26 columns</p>\n",
              "</div>\n",
              "      <button class=\"colab-df-convert\" onclick=\"convertToInteractive('df-dc69b031-0e4d-473e-b7e6-06b5af784ab1')\"\n",
              "              title=\"Convert this dataframe to an interactive table.\"\n",
              "              style=\"display:none;\">\n",
              "        \n",
              "  <svg xmlns=\"http://www.w3.org/2000/svg\" height=\"24px\"viewBox=\"0 0 24 24\"\n",
              "       width=\"24px\">\n",
              "    <path d=\"M0 0h24v24H0V0z\" fill=\"none\"/>\n",
              "    <path d=\"M18.56 5.44l.94 2.06.94-2.06 2.06-.94-2.06-.94-.94-2.06-.94 2.06-2.06.94zm-11 1L8.5 8.5l.94-2.06 2.06-.94-2.06-.94L8.5 2.5l-.94 2.06-2.06.94zm10 10l.94 2.06.94-2.06 2.06-.94-2.06-.94-.94-2.06-.94 2.06-2.06.94z\"/><path d=\"M17.41 7.96l-1.37-1.37c-.4-.4-.92-.59-1.43-.59-.52 0-1.04.2-1.43.59L10.3 9.45l-7.72 7.72c-.78.78-.78 2.05 0 2.83L4 21.41c.39.39.9.59 1.41.59.51 0 1.02-.2 1.41-.59l7.78-7.78 2.81-2.81c.8-.78.8-2.07 0-2.86zM5.41 20L4 18.59l7.72-7.72 1.47 1.35L5.41 20z\"/>\n",
              "  </svg>\n",
              "      </button>\n",
              "      \n",
              "  <style>\n",
              "    .colab-df-container {\n",
              "      display:flex;\n",
              "      flex-wrap:wrap;\n",
              "      gap: 12px;\n",
              "    }\n",
              "\n",
              "    .colab-df-convert {\n",
              "      background-color: #E8F0FE;\n",
              "      border: none;\n",
              "      border-radius: 50%;\n",
              "      cursor: pointer;\n",
              "      display: none;\n",
              "      fill: #1967D2;\n",
              "      height: 32px;\n",
              "      padding: 0 0 0 0;\n",
              "      width: 32px;\n",
              "    }\n",
              "\n",
              "    .colab-df-convert:hover {\n",
              "      background-color: #E2EBFA;\n",
              "      box-shadow: 0px 1px 2px rgba(60, 64, 67, 0.3), 0px 1px 3px 1px rgba(60, 64, 67, 0.15);\n",
              "      fill: #174EA6;\n",
              "    }\n",
              "\n",
              "    [theme=dark] .colab-df-convert {\n",
              "      background-color: #3B4455;\n",
              "      fill: #D2E3FC;\n",
              "    }\n",
              "\n",
              "    [theme=dark] .colab-df-convert:hover {\n",
              "      background-color: #434B5C;\n",
              "      box-shadow: 0px 1px 3px 1px rgba(0, 0, 0, 0.15);\n",
              "      filter: drop-shadow(0px 1px 2px rgba(0, 0, 0, 0.3));\n",
              "      fill: #FFFFFF;\n",
              "    }\n",
              "  </style>\n",
              "\n",
              "      <script>\n",
              "        const buttonEl =\n",
              "          document.querySelector('#df-dc69b031-0e4d-473e-b7e6-06b5af784ab1 button.colab-df-convert');\n",
              "        buttonEl.style.display =\n",
              "          google.colab.kernel.accessAllowed ? 'block' : 'none';\n",
              "\n",
              "        async function convertToInteractive(key) {\n",
              "          const element = document.querySelector('#df-dc69b031-0e4d-473e-b7e6-06b5af784ab1');\n",
              "          const dataTable =\n",
              "            await google.colab.kernel.invokeFunction('convertToInteractive',\n",
              "                                                     [key], {});\n",
              "          if (!dataTable) return;\n",
              "\n",
              "          const docLinkHtml = 'Like what you see? Visit the ' +\n",
              "            '<a target=\"_blank\" href=https://colab.research.google.com/notebooks/data_table.ipynb>data table notebook</a>'\n",
              "            + ' to learn more about interactive tables.';\n",
              "          element.innerHTML = '';\n",
              "          dataTable['output_type'] = 'display_data';\n",
              "          await google.colab.output.renderOutput(dataTable, element);\n",
              "          const docLink = document.createElement('div');\n",
              "          docLink.innerHTML = docLinkHtml;\n",
              "          element.appendChild(docLink);\n",
              "        }\n",
              "      </script>\n",
              "    </div>\n",
              "  </div>\n",
              "  "
            ]
          },
          "metadata": {}
        }
      ],
      "source": [
        "df=pd.read_csv('Pakistan Largest Ecommerce Dataset.csv')\n",
        "display(df.head(),df.tail())"
      ]
    },
    {
      "cell_type": "markdown",
      "source": [
        "Pertama, kita lihat informasi jumlah baris, kolom, dan data di tiap kolomnya."
      ],
      "metadata": {
        "id": "krJlAHKjAOLY"
      }
    },
    {
      "cell_type": "code",
      "execution_count": 75,
      "metadata": {
        "id": "vP521rYrc46s",
        "outputId": "1cd9b314-5146-472d-b5bd-fa89dffbba72",
        "colab": {
          "base_uri": "https://localhost:8080/",
          "height": 624
        }
      },
      "outputs": [
        {
          "output_type": "stream",
          "name": "stdout",
          "text": [
            "Jumlah baris dan kolom di dataset df adalah (1048575, 26)\n",
            "<class 'pandas.core.frame.DataFrame'>\n",
            "RangeIndex: 1048575 entries, 0 to 1048574\n",
            "Data columns (total 26 columns):\n",
            " #   Column                 Non-Null Count   Dtype  \n",
            "---  ------                 --------------   -----  \n",
            " 0   item_id                584524 non-null  float64\n",
            " 1   status                 584509 non-null  object \n",
            " 2   created_at             584524 non-null  object \n",
            " 3   sku                    584504 non-null  object \n",
            " 4   price                  584524 non-null  float64\n",
            " 5   qty_ordered            584524 non-null  float64\n",
            " 6   grand_total            584524 non-null  float64\n",
            " 7   increment_id           584524 non-null  object \n",
            " 8   category_name_1        584360 non-null  object \n",
            " 9   sales_commission_code  447349 non-null  object \n",
            " 10  discount_amount        584524 non-null  float64\n",
            " 11  payment_method         584524 non-null  object \n",
            " 12  Working Date           584524 non-null  object \n",
            " 13  BI Status              584524 non-null  object \n",
            " 14   MV                    584524 non-null  object \n",
            " 15  Year                   584524 non-null  float64\n",
            " 16  Month                  584524 non-null  float64\n",
            " 17  Customer Since         584513 non-null  object \n",
            " 18  M-Y                    584524 non-null  object \n",
            " 19  FY                     584524 non-null  object \n",
            " 20  Customer ID            584513 non-null  float64\n",
            " 21  Unnamed: 21            0 non-null       float64\n",
            " 22  Unnamed: 22            0 non-null       float64\n",
            " 23  Unnamed: 23            0 non-null       float64\n",
            " 24  Unnamed: 24            0 non-null       float64\n",
            " 25  Unnamed: 25            0 non-null       float64\n",
            "dtypes: float64(13), object(13)\n",
            "memory usage: 208.0+ MB\n"
          ]
        },
        {
          "output_type": "display_data",
          "data": {
            "text/plain": [
              "None"
            ]
          },
          "metadata": {}
        }
      ],
      "source": [
        "print(f'Jumlah baris dan kolom di dataset df adalah {df.shape}')\n",
        "display(df.info())"
      ]
    },
    {
      "cell_type": "markdown",
      "source": [
        "Bisa kita lihat bahwa kolom 22-26 sebagai empty column tidak memiliki keterangan dan hanya berisi nilai NaN. maka kita perlu menghapus kolom 22-26 untuk memudahkan proses Data Understanding"
      ],
      "metadata": {
        "id": "zPQe2MU80bwm"
      }
    },
    {
      "cell_type": "code",
      "source": [
        "df.drop(columns=['Unnamed: 21','Unnamed: 22','Unnamed: 23','Unnamed: 24','Unnamed: 25'], inplace=True)"
      ],
      "metadata": {
        "id": "1xs-Kxl0w8H6"
      },
      "execution_count": 76,
      "outputs": []
    },
    {
      "cell_type": "code",
      "execution_count": 77,
      "metadata": {
        "id": "SmOKlfKbc46u",
        "outputId": "fd1ca568-3604-4652-bbba-ed60486b39b1",
        "colab": {
          "base_uri": "https://localhost:8080/",
          "height": 513
        }
      },
      "outputs": [
        {
          "output_type": "display_data",
          "data": {
            "text/plain": [
              "             item_id         price    qty_ordered   grand_total  \\\n",
              "count  584524.000000  5.845240e+05  584524.000000  5.845240e+05   \n",
              "mean   565667.074218  6.348748e+03  1.296388       8.530619e+03   \n",
              "std    200121.173648  1.494927e+04  3.996061       6.132081e+04   \n",
              "min    211131.000000  0.000000e+00  1.000000      -1.594000e+03   \n",
              "25%    395000.750000  3.600000e+02  1.000000       9.450000e+02   \n",
              "50%    568424.500000  8.990000e+02  1.000000       1.960400e+03   \n",
              "75%    739106.250000  4.070000e+03  1.000000       6.999000e+03   \n",
              "max    905208.000000  1.012626e+06  1000.000000    1.788800e+07   \n",
              "\n",
              "       discount_amount           Year          Month    Customer ID  \n",
              "count  584524.000000    584524.000000  584524.000000  584513.000000  \n",
              "mean   499.492775       2017.044115    7.167654       45790.511965   \n",
              "std    1506.943046      0.707355       3.486305       34414.962389   \n",
              "min   -599.500000       2016.000000    1.000000       1.000000       \n",
              "25%    0.000000         2017.000000    4.000000       13516.000000   \n",
              "50%    0.000000         2017.000000    7.000000       42856.000000   \n",
              "75%    160.500000       2018.000000    11.000000      73536.000000   \n",
              "max    90300.000000     2018.000000    12.000000      115326.000000  "
            ],
            "text/html": [
              "\n",
              "  <div id=\"df-7b494d7e-4b38-4ffb-be1b-aa0efcb14edc\">\n",
              "    <div class=\"colab-df-container\">\n",
              "      <div>\n",
              "<style scoped>\n",
              "    .dataframe tbody tr th:only-of-type {\n",
              "        vertical-align: middle;\n",
              "    }\n",
              "\n",
              "    .dataframe tbody tr th {\n",
              "        vertical-align: top;\n",
              "    }\n",
              "\n",
              "    .dataframe thead th {\n",
              "        text-align: right;\n",
              "    }\n",
              "</style>\n",
              "<table border=\"1\" class=\"dataframe\">\n",
              "  <thead>\n",
              "    <tr style=\"text-align: right;\">\n",
              "      <th></th>\n",
              "      <th>item_id</th>\n",
              "      <th>price</th>\n",
              "      <th>qty_ordered</th>\n",
              "      <th>grand_total</th>\n",
              "      <th>discount_amount</th>\n",
              "      <th>Year</th>\n",
              "      <th>Month</th>\n",
              "      <th>Customer ID</th>\n",
              "    </tr>\n",
              "  </thead>\n",
              "  <tbody>\n",
              "    <tr>\n",
              "      <th>count</th>\n",
              "      <td>584524.000000</td>\n",
              "      <td>5.845240e+05</td>\n",
              "      <td>584524.000000</td>\n",
              "      <td>5.845240e+05</td>\n",
              "      <td>584524.000000</td>\n",
              "      <td>584524.000000</td>\n",
              "      <td>584524.000000</td>\n",
              "      <td>584513.000000</td>\n",
              "    </tr>\n",
              "    <tr>\n",
              "      <th>mean</th>\n",
              "      <td>565667.074218</td>\n",
              "      <td>6.348748e+03</td>\n",
              "      <td>1.296388</td>\n",
              "      <td>8.530619e+03</td>\n",
              "      <td>499.492775</td>\n",
              "      <td>2017.044115</td>\n",
              "      <td>7.167654</td>\n",
              "      <td>45790.511965</td>\n",
              "    </tr>\n",
              "    <tr>\n",
              "      <th>std</th>\n",
              "      <td>200121.173648</td>\n",
              "      <td>1.494927e+04</td>\n",
              "      <td>3.996061</td>\n",
              "      <td>6.132081e+04</td>\n",
              "      <td>1506.943046</td>\n",
              "      <td>0.707355</td>\n",
              "      <td>3.486305</td>\n",
              "      <td>34414.962389</td>\n",
              "    </tr>\n",
              "    <tr>\n",
              "      <th>min</th>\n",
              "      <td>211131.000000</td>\n",
              "      <td>0.000000e+00</td>\n",
              "      <td>1.000000</td>\n",
              "      <td>-1.594000e+03</td>\n",
              "      <td>-599.500000</td>\n",
              "      <td>2016.000000</td>\n",
              "      <td>1.000000</td>\n",
              "      <td>1.000000</td>\n",
              "    </tr>\n",
              "    <tr>\n",
              "      <th>25%</th>\n",
              "      <td>395000.750000</td>\n",
              "      <td>3.600000e+02</td>\n",
              "      <td>1.000000</td>\n",
              "      <td>9.450000e+02</td>\n",
              "      <td>0.000000</td>\n",
              "      <td>2017.000000</td>\n",
              "      <td>4.000000</td>\n",
              "      <td>13516.000000</td>\n",
              "    </tr>\n",
              "    <tr>\n",
              "      <th>50%</th>\n",
              "      <td>568424.500000</td>\n",
              "      <td>8.990000e+02</td>\n",
              "      <td>1.000000</td>\n",
              "      <td>1.960400e+03</td>\n",
              "      <td>0.000000</td>\n",
              "      <td>2017.000000</td>\n",
              "      <td>7.000000</td>\n",
              "      <td>42856.000000</td>\n",
              "    </tr>\n",
              "    <tr>\n",
              "      <th>75%</th>\n",
              "      <td>739106.250000</td>\n",
              "      <td>4.070000e+03</td>\n",
              "      <td>1.000000</td>\n",
              "      <td>6.999000e+03</td>\n",
              "      <td>160.500000</td>\n",
              "      <td>2018.000000</td>\n",
              "      <td>11.000000</td>\n",
              "      <td>73536.000000</td>\n",
              "    </tr>\n",
              "    <tr>\n",
              "      <th>max</th>\n",
              "      <td>905208.000000</td>\n",
              "      <td>1.012626e+06</td>\n",
              "      <td>1000.000000</td>\n",
              "      <td>1.788800e+07</td>\n",
              "      <td>90300.000000</td>\n",
              "      <td>2018.000000</td>\n",
              "      <td>12.000000</td>\n",
              "      <td>115326.000000</td>\n",
              "    </tr>\n",
              "  </tbody>\n",
              "</table>\n",
              "</div>\n",
              "      <button class=\"colab-df-convert\" onclick=\"convertToInteractive('df-7b494d7e-4b38-4ffb-be1b-aa0efcb14edc')\"\n",
              "              title=\"Convert this dataframe to an interactive table.\"\n",
              "              style=\"display:none;\">\n",
              "        \n",
              "  <svg xmlns=\"http://www.w3.org/2000/svg\" height=\"24px\"viewBox=\"0 0 24 24\"\n",
              "       width=\"24px\">\n",
              "    <path d=\"M0 0h24v24H0V0z\" fill=\"none\"/>\n",
              "    <path d=\"M18.56 5.44l.94 2.06.94-2.06 2.06-.94-2.06-.94-.94-2.06-.94 2.06-2.06.94zm-11 1L8.5 8.5l.94-2.06 2.06-.94-2.06-.94L8.5 2.5l-.94 2.06-2.06.94zm10 10l.94 2.06.94-2.06 2.06-.94-2.06-.94-.94-2.06-.94 2.06-2.06.94z\"/><path d=\"M17.41 7.96l-1.37-1.37c-.4-.4-.92-.59-1.43-.59-.52 0-1.04.2-1.43.59L10.3 9.45l-7.72 7.72c-.78.78-.78 2.05 0 2.83L4 21.41c.39.39.9.59 1.41.59.51 0 1.02-.2 1.41-.59l7.78-7.78 2.81-2.81c.8-.78.8-2.07 0-2.86zM5.41 20L4 18.59l7.72-7.72 1.47 1.35L5.41 20z\"/>\n",
              "  </svg>\n",
              "      </button>\n",
              "      \n",
              "  <style>\n",
              "    .colab-df-container {\n",
              "      display:flex;\n",
              "      flex-wrap:wrap;\n",
              "      gap: 12px;\n",
              "    }\n",
              "\n",
              "    .colab-df-convert {\n",
              "      background-color: #E8F0FE;\n",
              "      border: none;\n",
              "      border-radius: 50%;\n",
              "      cursor: pointer;\n",
              "      display: none;\n",
              "      fill: #1967D2;\n",
              "      height: 32px;\n",
              "      padding: 0 0 0 0;\n",
              "      width: 32px;\n",
              "    }\n",
              "\n",
              "    .colab-df-convert:hover {\n",
              "      background-color: #E2EBFA;\n",
              "      box-shadow: 0px 1px 2px rgba(60, 64, 67, 0.3), 0px 1px 3px 1px rgba(60, 64, 67, 0.15);\n",
              "      fill: #174EA6;\n",
              "    }\n",
              "\n",
              "    [theme=dark] .colab-df-convert {\n",
              "      background-color: #3B4455;\n",
              "      fill: #D2E3FC;\n",
              "    }\n",
              "\n",
              "    [theme=dark] .colab-df-convert:hover {\n",
              "      background-color: #434B5C;\n",
              "      box-shadow: 0px 1px 3px 1px rgba(0, 0, 0, 0.15);\n",
              "      filter: drop-shadow(0px 1px 2px rgba(0, 0, 0, 0.3));\n",
              "      fill: #FFFFFF;\n",
              "    }\n",
              "  </style>\n",
              "\n",
              "      <script>\n",
              "        const buttonEl =\n",
              "          document.querySelector('#df-7b494d7e-4b38-4ffb-be1b-aa0efcb14edc button.colab-df-convert');\n",
              "        buttonEl.style.display =\n",
              "          google.colab.kernel.accessAllowed ? 'block' : 'none';\n",
              "\n",
              "        async function convertToInteractive(key) {\n",
              "          const element = document.querySelector('#df-7b494d7e-4b38-4ffb-be1b-aa0efcb14edc');\n",
              "          const dataTable =\n",
              "            await google.colab.kernel.invokeFunction('convertToInteractive',\n",
              "                                                     [key], {});\n",
              "          if (!dataTable) return;\n",
              "\n",
              "          const docLinkHtml = 'Like what you see? Visit the ' +\n",
              "            '<a target=\"_blank\" href=https://colab.research.google.com/notebooks/data_table.ipynb>data table notebook</a>'\n",
              "            + ' to learn more about interactive tables.';\n",
              "          element.innerHTML = '';\n",
              "          dataTable['output_type'] = 'display_data';\n",
              "          await google.colab.output.renderOutput(dataTable, element);\n",
              "          const docLink = document.createElement('div');\n",
              "          docLink.innerHTML = docLinkHtml;\n",
              "          element.appendChild(docLink);\n",
              "        }\n",
              "      </script>\n",
              "    </div>\n",
              "  </div>\n",
              "  "
            ]
          },
          "metadata": {}
        },
        {
          "output_type": "display_data",
          "data": {
            "text/plain": [
              "          status  created_at                  sku increment_id  \\\n",
              "count   584509    584524      584504               584524        \n",
              "unique  16        789         84889                408785        \n",
              "top     complete  11/25/2016  MATSAM59DB75ADB2F80  100266667     \n",
              "freq    233685    15169       3775                 72            \n",
              "\n",
              "          category_name_1 sales_commission_code payment_method Working Date  \\\n",
              "count   584360             447349                584524         584524        \n",
              "unique  16                 7226                  18             789           \n",
              "top     Mobiles & Tablets  \\N                    cod            11/25/2016    \n",
              "freq    115710             339001                271960         15169         \n",
              "\n",
              "       BI Status     MV  Customer Since      M-Y      FY  \n",
              "count   584524    584524  584513         584524   584524  \n",
              "unique  4         9720    26             26       3       \n",
              "top     Net        999    2016-11        11-2017  FY18    \n",
              "freq    234178    9516    82714          83928    306883  "
            ],
            "text/html": [
              "\n",
              "  <div id=\"df-46226790-930c-4448-9788-3acaf1855b10\">\n",
              "    <div class=\"colab-df-container\">\n",
              "      <div>\n",
              "<style scoped>\n",
              "    .dataframe tbody tr th:only-of-type {\n",
              "        vertical-align: middle;\n",
              "    }\n",
              "\n",
              "    .dataframe tbody tr th {\n",
              "        vertical-align: top;\n",
              "    }\n",
              "\n",
              "    .dataframe thead th {\n",
              "        text-align: right;\n",
              "    }\n",
              "</style>\n",
              "<table border=\"1\" class=\"dataframe\">\n",
              "  <thead>\n",
              "    <tr style=\"text-align: right;\">\n",
              "      <th></th>\n",
              "      <th>status</th>\n",
              "      <th>created_at</th>\n",
              "      <th>sku</th>\n",
              "      <th>increment_id</th>\n",
              "      <th>category_name_1</th>\n",
              "      <th>sales_commission_code</th>\n",
              "      <th>payment_method</th>\n",
              "      <th>Working Date</th>\n",
              "      <th>BI Status</th>\n",
              "      <th>MV</th>\n",
              "      <th>Customer Since</th>\n",
              "      <th>M-Y</th>\n",
              "      <th>FY</th>\n",
              "    </tr>\n",
              "  </thead>\n",
              "  <tbody>\n",
              "    <tr>\n",
              "      <th>count</th>\n",
              "      <td>584509</td>\n",
              "      <td>584524</td>\n",
              "      <td>584504</td>\n",
              "      <td>584524</td>\n",
              "      <td>584360</td>\n",
              "      <td>447349</td>\n",
              "      <td>584524</td>\n",
              "      <td>584524</td>\n",
              "      <td>584524</td>\n",
              "      <td>584524</td>\n",
              "      <td>584513</td>\n",
              "      <td>584524</td>\n",
              "      <td>584524</td>\n",
              "    </tr>\n",
              "    <tr>\n",
              "      <th>unique</th>\n",
              "      <td>16</td>\n",
              "      <td>789</td>\n",
              "      <td>84889</td>\n",
              "      <td>408785</td>\n",
              "      <td>16</td>\n",
              "      <td>7226</td>\n",
              "      <td>18</td>\n",
              "      <td>789</td>\n",
              "      <td>4</td>\n",
              "      <td>9720</td>\n",
              "      <td>26</td>\n",
              "      <td>26</td>\n",
              "      <td>3</td>\n",
              "    </tr>\n",
              "    <tr>\n",
              "      <th>top</th>\n",
              "      <td>complete</td>\n",
              "      <td>11/25/2016</td>\n",
              "      <td>MATSAM59DB75ADB2F80</td>\n",
              "      <td>100266667</td>\n",
              "      <td>Mobiles &amp; Tablets</td>\n",
              "      <td>\\N</td>\n",
              "      <td>cod</td>\n",
              "      <td>11/25/2016</td>\n",
              "      <td>Net</td>\n",
              "      <td>999</td>\n",
              "      <td>2016-11</td>\n",
              "      <td>11-2017</td>\n",
              "      <td>FY18</td>\n",
              "    </tr>\n",
              "    <tr>\n",
              "      <th>freq</th>\n",
              "      <td>233685</td>\n",
              "      <td>15169</td>\n",
              "      <td>3775</td>\n",
              "      <td>72</td>\n",
              "      <td>115710</td>\n",
              "      <td>339001</td>\n",
              "      <td>271960</td>\n",
              "      <td>15169</td>\n",
              "      <td>234178</td>\n",
              "      <td>9516</td>\n",
              "      <td>82714</td>\n",
              "      <td>83928</td>\n",
              "      <td>306883</td>\n",
              "    </tr>\n",
              "  </tbody>\n",
              "</table>\n",
              "</div>\n",
              "      <button class=\"colab-df-convert\" onclick=\"convertToInteractive('df-46226790-930c-4448-9788-3acaf1855b10')\"\n",
              "              title=\"Convert this dataframe to an interactive table.\"\n",
              "              style=\"display:none;\">\n",
              "        \n",
              "  <svg xmlns=\"http://www.w3.org/2000/svg\" height=\"24px\"viewBox=\"0 0 24 24\"\n",
              "       width=\"24px\">\n",
              "    <path d=\"M0 0h24v24H0V0z\" fill=\"none\"/>\n",
              "    <path d=\"M18.56 5.44l.94 2.06.94-2.06 2.06-.94-2.06-.94-.94-2.06-.94 2.06-2.06.94zm-11 1L8.5 8.5l.94-2.06 2.06-.94-2.06-.94L8.5 2.5l-.94 2.06-2.06.94zm10 10l.94 2.06.94-2.06 2.06-.94-2.06-.94-.94-2.06-.94 2.06-2.06.94z\"/><path d=\"M17.41 7.96l-1.37-1.37c-.4-.4-.92-.59-1.43-.59-.52 0-1.04.2-1.43.59L10.3 9.45l-7.72 7.72c-.78.78-.78 2.05 0 2.83L4 21.41c.39.39.9.59 1.41.59.51 0 1.02-.2 1.41-.59l7.78-7.78 2.81-2.81c.8-.78.8-2.07 0-2.86zM5.41 20L4 18.59l7.72-7.72 1.47 1.35L5.41 20z\"/>\n",
              "  </svg>\n",
              "      </button>\n",
              "      \n",
              "  <style>\n",
              "    .colab-df-container {\n",
              "      display:flex;\n",
              "      flex-wrap:wrap;\n",
              "      gap: 12px;\n",
              "    }\n",
              "\n",
              "    .colab-df-convert {\n",
              "      background-color: #E8F0FE;\n",
              "      border: none;\n",
              "      border-radius: 50%;\n",
              "      cursor: pointer;\n",
              "      display: none;\n",
              "      fill: #1967D2;\n",
              "      height: 32px;\n",
              "      padding: 0 0 0 0;\n",
              "      width: 32px;\n",
              "    }\n",
              "\n",
              "    .colab-df-convert:hover {\n",
              "      background-color: #E2EBFA;\n",
              "      box-shadow: 0px 1px 2px rgba(60, 64, 67, 0.3), 0px 1px 3px 1px rgba(60, 64, 67, 0.15);\n",
              "      fill: #174EA6;\n",
              "    }\n",
              "\n",
              "    [theme=dark] .colab-df-convert {\n",
              "      background-color: #3B4455;\n",
              "      fill: #D2E3FC;\n",
              "    }\n",
              "\n",
              "    [theme=dark] .colab-df-convert:hover {\n",
              "      background-color: #434B5C;\n",
              "      box-shadow: 0px 1px 3px 1px rgba(0, 0, 0, 0.15);\n",
              "      filter: drop-shadow(0px 1px 2px rgba(0, 0, 0, 0.3));\n",
              "      fill: #FFFFFF;\n",
              "    }\n",
              "  </style>\n",
              "\n",
              "      <script>\n",
              "        const buttonEl =\n",
              "          document.querySelector('#df-46226790-930c-4448-9788-3acaf1855b10 button.colab-df-convert');\n",
              "        buttonEl.style.display =\n",
              "          google.colab.kernel.accessAllowed ? 'block' : 'none';\n",
              "\n",
              "        async function convertToInteractive(key) {\n",
              "          const element = document.querySelector('#df-46226790-930c-4448-9788-3acaf1855b10');\n",
              "          const dataTable =\n",
              "            await google.colab.kernel.invokeFunction('convertToInteractive',\n",
              "                                                     [key], {});\n",
              "          if (!dataTable) return;\n",
              "\n",
              "          const docLinkHtml = 'Like what you see? Visit the ' +\n",
              "            '<a target=\"_blank\" href=https://colab.research.google.com/notebooks/data_table.ipynb>data table notebook</a>'\n",
              "            + ' to learn more about interactive tables.';\n",
              "          element.innerHTML = '';\n",
              "          dataTable['output_type'] = 'display_data';\n",
              "          await google.colab.output.renderOutput(dataTable, element);\n",
              "          const docLink = document.createElement('div');\n",
              "          docLink.innerHTML = docLinkHtml;\n",
              "          element.appendChild(docLink);\n",
              "        }\n",
              "      </script>\n",
              "    </div>\n",
              "  </div>\n",
              "  "
            ]
          },
          "metadata": {}
        }
      ],
      "source": [
        "display(df.describe(), df.describe(include='object'))"
      ]
    },
    {
      "cell_type": "markdown",
      "metadata": {
        "id": "nX_K53sUc46x"
      },
      "source": [
        "Secara umum, kita bisa melihat bahwa:\n",
        "* Pakistan Largest E-Commerce Dataset memiliki 26 kolom dan 1.048.575 baris\n",
        "* hampir semua kolom memiliki jumlah data kosong yang sama yaitu sebanyak 584.524 data kosong. Data kosong pada kolom-kolom tersebut diwakili dengan data NaN.\n",
        "* beberapa kolom, yaitu, `status`, `sku`, `category_name_1`, `sales_commission_code`, `Customer Since`, dan `Customer ID` memiliki jumlah data kosong yang berbeda. \n",
        "* kolom `item_id`, `sku`, `Increment_id`, `sales_commission_code`, dan `Customer ID` berisikan id unik untuk tiap barang, transaksi, dan pelanggan. Kolom tersebut tidak relevan dalam analisis dan bisa dihapus saja.\n",
        "* ada typo pada kolom MV sehingga perlu diperbaiki untuk memudahkan akses kolom."
      ]
    },
    {
      "cell_type": "markdown",
      "source": [
        "### Filter Kolom"
      ],
      "metadata": {
        "id": "jTbMx7eCFdf-"
      }
    },
    {
      "cell_type": "markdown",
      "source": [
        "Kita akan menghapus kolom-kolom yang tidak relevan dalam analisis."
      ],
      "metadata": {
        "id": "dmhLkIwgFnWm"
      }
    },
    {
      "cell_type": "code",
      "source": [
        "df.drop(columns=['item_id', 'sku', 'increment_id', 'sales_commission_code', 'Customer ID'], inplace=True)"
      ],
      "metadata": {
        "id": "0VkRfTYFF4oO"
      },
      "execution_count": 78,
      "outputs": []
    },
    {
      "cell_type": "markdown",
      "source": [
        "Kita lakukan perbaikan typo pada kolom."
      ],
      "metadata": {
        "id": "r8CTMpxKMBXn"
      }
    },
    {
      "cell_type": "code",
      "source": [
        "df.rename(columns={' MV ':'MV'},inplace=True)"
      ],
      "metadata": {
        "id": "7ancTRV9MIXt"
      },
      "execution_count": 79,
      "outputs": []
    },
    {
      "cell_type": "markdown",
      "metadata": {
        "id": "JdlaqRbsc46y"
      },
      "source": [
        "### Missing Value"
      ]
    },
    {
      "cell_type": "markdown",
      "source": [
        "Pertama-tama kita cek terlebih dahulu persentase data kosong dalam data."
      ],
      "metadata": {
        "id": "XYmFWkEMEgmO"
      }
    },
    {
      "cell_type": "code",
      "execution_count": 80,
      "metadata": {
        "id": "gVBGUPTEc46z",
        "outputId": "be97d850-19b6-460c-a17c-a2cbac2bdc43",
        "colab": {
          "base_uri": "https://localhost:8080/"
        }
      },
      "outputs": [
        {
          "output_type": "execute_result",
          "data": {
            "text/plain": [
              "status             44.256825\n",
              "created_at         44.255394\n",
              "price              44.255394\n",
              "qty_ordered        44.255394\n",
              "grand_total        44.255394\n",
              "category_name_1    44.271034\n",
              "discount_amount    44.255394\n",
              "payment_method     44.255394\n",
              "Working Date       44.255394\n",
              "BI Status          44.255394\n",
              "MV                 44.255394\n",
              "Year               44.255394\n",
              "Month              44.255394\n",
              "Customer Since     44.256443\n",
              "M-Y                44.255394\n",
              "FY                 44.255394\n",
              "dtype: float64"
            ]
          },
          "metadata": {},
          "execution_count": 80
        }
      ],
      "source": [
        "df.isna().sum()/df.shape[0]*100"
      ]
    },
    {
      "cell_type": "markdown",
      "metadata": {
        "id": "kMzpxTMuc461"
      },
      "source": [
        "Secara garis besar:  \n",
        "* *missing value* di semua kolom memiliki proporsi yang tinggi (44%), dengan missing value di kolom `sales_commission_code` mencapai 57.34%.\n",
        "* missing value dengan jumlah yang sama ini diakibatkan oleh baris berisi data kosong di tiap kolom. baris tersebut bukan termasuk data yang bisa kita olah sehingga persentasenya tidak diperhitungkan dan kita dapat langsung menghapus baris-baris tersebut."
      ]
    },
    {
      "cell_type": "code",
      "source": [
        "# menghapus baris berisi data kosong\n",
        "df.dropna(subset=['price'], inplace=True)"
      ],
      "metadata": {
        "id": "jGg8FMLHyWzR"
      },
      "execution_count": 81,
      "outputs": []
    },
    {
      "cell_type": "markdown",
      "source": [
        "Lalu, kita ulang untuk pengecekan persentase data kosong di tiap kolom"
      ],
      "metadata": {
        "id": "DYB-rgIG4F4d"
      }
    },
    {
      "cell_type": "code",
      "source": [
        "df.isna().sum()/df.shape[0]*100"
      ],
      "metadata": {
        "colab": {
          "base_uri": "https://localhost:8080/"
        },
        "id": "qz-lN7seybyh",
        "outputId": "076d4eaa-45b2-4748-ce28-8a5432b8cb4d"
      },
      "execution_count": 82,
      "outputs": [
        {
          "output_type": "execute_result",
          "data": {
            "text/plain": [
              "status             0.002566\n",
              "created_at         0.000000\n",
              "price              0.000000\n",
              "qty_ordered        0.000000\n",
              "grand_total        0.000000\n",
              "category_name_1    0.028057\n",
              "discount_amount    0.000000\n",
              "payment_method     0.000000\n",
              "Working Date       0.000000\n",
              "BI Status          0.000000\n",
              "MV                 0.000000\n",
              "Year               0.000000\n",
              "Month              0.000000\n",
              "Customer Since     0.001882\n",
              "M-Y                0.000000\n",
              "FY                 0.000000\n",
              "dtype: float64"
            ]
          },
          "metadata": {},
          "execution_count": 82
        }
      ]
    },
    {
      "cell_type": "markdown",
      "source": [
        "Karena persentase data kosong sangat kecil, maka dapat kita hapus saja baris-baris yang berisi data kosong."
      ],
      "metadata": {
        "id": "2lrzM8_ly_Ih"
      }
    },
    {
      "cell_type": "code",
      "source": [
        "df.dropna(inplace=True)"
      ],
      "metadata": {
        "id": "WfqTvmZNHn4B"
      },
      "execution_count": 83,
      "outputs": []
    },
    {
      "cell_type": "markdown",
      "source": [
        "Sekarang dapat dipastikan tidak ada data kosong dalam dataset."
      ],
      "metadata": {
        "id": "N2gixByyIjaS"
      }
    },
    {
      "cell_type": "markdown",
      "source": [
        "### Data Duplikat"
      ],
      "metadata": {
        "id": "E5S-jGnh5W5a"
      }
    },
    {
      "cell_type": "markdown",
      "source": [
        "Kita cek jumlah data duplikat dalam dataset."
      ],
      "metadata": {
        "id": "lfRzn5M6EznG"
      }
    },
    {
      "cell_type": "code",
      "source": [
        "df.duplicated().sum()"
      ],
      "metadata": {
        "colab": {
          "base_uri": "https://localhost:8080/"
        },
        "id": "S-ioZRm42wf9",
        "outputId": "763e303c-fa56-44ee-904c-0e12bec01caa"
      },
      "execution_count": 84,
      "outputs": [
        {
          "output_type": "execute_result",
          "data": {
            "text/plain": [
              "165841"
            ]
          },
          "metadata": {},
          "execution_count": 84
        }
      ]
    },
    {
      "cell_type": "markdown",
      "source": [
        "Karena tidak ada data duplikat, maka tidak ada perlakuan khusus terhadap data duplikat dalam dataset."
      ],
      "metadata": {
        "id": "N-MnC77qE5S0"
      }
    },
    {
      "cell_type": "markdown",
      "source": [
        "### Data Anomali"
      ],
      "metadata": {
        "id": "K5aWWIoKKtqY"
      }
    },
    {
      "cell_type": "markdown",
      "source": [
        "Untuk mendeteksi nilai anomali, perlu kita lakukan pengecekan terhadap data unik masing-masing kolom."
      ],
      "metadata": {
        "id": "u6OL1nBFKy2G"
      }
    },
    {
      "cell_type": "code",
      "execution_count": 85,
      "metadata": {
        "id": "aN-8ts-oc46w",
        "outputId": "f422c1d3-0c4d-4578-b52d-76a9ce5f1354",
        "colab": {
          "base_uri": "https://localhost:8080/",
          "height": 1000
        }
      },
      "outputs": [
        {
          "output_type": "execute_result",
          "data": {
            "text/plain": [
              "        Column Name  Number of Unique  \\\n",
              "0   status           16                 \n",
              "1   created_at       789                \n",
              "2   price            9119               \n",
              "3   qty_ordered      73                 \n",
              "4   grand_total      36828              \n",
              "5   category_name_1  16                 \n",
              "6   discount_amount  28058              \n",
              "7   payment_method   18                 \n",
              "8   Working Date     789                \n",
              "9   BI Status        4                  \n",
              "10  MV               9720               \n",
              "11  Year             3                  \n",
              "12  Month            12                 \n",
              "13  Customer Since   26                 \n",
              "14  M-Y              26                 \n",
              "15  FY               3                  \n",
              "\n",
              "                                                                                                                                                                                                                                                                                                                                                                                                                                                                                                                                                                                                                                                                                                                                                                                                                                                                                                                                                                                                                                                                                                             Unique Sample  \n",
              "0   [complete, canceled, order_refunded, received, refund, closed, fraud, holded, exchange, pending_paypal, paid, \\N, cod, pending, processing, payment_review]                                                                                                                                                                                                                                                                                                                                                                                                                                                                                                                                                                                                                                                                                                                                                                                                                                                                                                                                                             \n",
              "1   [7/1/2016, 7/2/2016, 7/3/2016, 7/4/2016, 7/5/2016, 7/6/2016, 7/7/2016, 7/8/2016, 7/9/2016, 7/10/2016, 7/11/2016, 7/12/2016, 7/13/2016, 7/14/2016, 7/15/2016, 7/16/2016, 7/17/2016, 7/18/2016, 7/19/2016, 7/20/2016, 7/21/2016, 7/22/2016, 7/23/2016, 7/24/2016, 7/25/2016, 7/26/2016, 7/27/2016, 7/28/2016, 7/29/2016, 7/30/2016, 7/31/2016, 8/1/2016, 8/2/2016, 8/3/2016, 8/4/2016, 8/5/2016, 8/6/2016, 8/7/2016, 8/8/2016, 8/9/2016, 8/10/2016, 8/11/2016, 8/12/2016, 8/13/2016, 8/14/2016, 8/15/2016, 8/16/2016, 8/17/2016, 8/18/2016, 8/19/2016, 8/20/2016, 8/21/2016, 8/22/2016, 8/23/2016, 8/24/2016, 8/25/2016, 8/26/2016, 8/27/2016, 8/28/2016, 8/29/2016, 8/30/2016, 8/31/2016, 9/1/2016, 9/2/2016, 9/3/2016, 9/4/2016, 9/5/2016, 9/6/2016, 9/7/2016, 9/8/2016, 9/9/2016, 9/10/2016, 9/11/2016, 9/12/2016, 9/13/2016, 9/14/2016, 9/15/2016, 9/16/2016, 9/17/2016, 9/18/2016, 9/19/2016, 9/20/2016, 9/21/2016, 9/22/2016, 9/23/2016, 9/24/2016, 9/25/2016, 9/26/2016, 9/27/2016, 9/28/2016, 9/29/2016, 9/30/2016, 10/1/2016, 10/2/2016, 10/3/2016, 10/4/2016, 10/5/2016, 10/6/2016, 10/7/2016, 10/8/2016, ...]  \n",
              "2   [1950.0, 240.0, 2450.0, 360.0, 555.0, 80.0, 170.0, 96499.0, 5500.0, 210.0, 156.0, 120.0, 320.0, 1550.0, 420.0, 490.0, 899.25, 899.0, 149.0, 1000.0, 1913.0, 500.0, 100.0, 1500.0, 450.0, 20999.0, 165.0, 435.0, 90.0, 850.0, 3672.0, 7400.0, 3600.0, 143.0, 225.0, 4500.0, 3156.0, 2996.0, 300.0, 150.0, 465.0, 380.0, 350.0, 425.0, 251.0, 510.0, 325.0, 30417.0, 45250.0, 8100.0, 144.0, 5597.0, 999.0, 4950.0, 805.0, 280.0, 1.0, 760.0, 1875.0, 4200.0, 550.0, 1230.0, 370.0, 2.0, 795.0, 4750.0, 520.0, 260.0, 1450.0, 3950.0, 190.0, 16460.0, 599.0, 265.0, 250.0, 25999.0, 3900.0, 75.0, 140.0, 1050.0, 3750.0, 455.0, 1335.0, 10740.0, 230.0, 799.0, 480.0, 1200.0, 4530.0, 1890.0, 185.0, 5.0, 1350.0, 2490.0, 1650.0, 1870.0, 2050.0, 995.0, 285.0, 1099.0, ...]                                                                                                                                                                                                                                                                                                                                              \n",
              "3   [1.0, 2.0, 5.0, 3.0, 4.0, 6.0, 10.0, 34.0, 9.0, 7.0, 14.0, 11.0, 15.0, 8.0, 20.0, 27.0, 12.0, 13.0, 130.0, 16.0, 40.0, 100.0, 50.0, 120.0, 25.0, 22.0, 200.0, 31.0, 97.0, 35.0, 119.0, 24.0, 99.0, 38.0, 30.0, 26.0, 48.0, 19.0, 32.0, 28.0, 37.0, 18.0, 150.0, 300.0, 21.0, 49.0, 17.0, 45.0, 36.0, 56.0, 72.0, 502.0, 33.0, 29.0, 304.0, 1000.0, 52.0, 125.0, 141.0, 180.0, 186.0, 96.0, 187.0, 144.0, 66.0, 60.0, 185.0, 90.0, 70.0, 23.0, 500.0, 380.0, 75.0]                                                                                                                                                                                                                                                                                                                                                                                                                                                                                                                                                                                                                                                       \n",
              "4   [1950.0, 240.0, 2450.0, 60.0, 1110.0, 80.0, 170.0, 96499.0, 5500.0, 366.0, 120.0, 0.0, 1550.0, 1270.0, 2118.25, 298.0, 3826.0, 3000.0, 450.0, 20999.0, 360.0, 300.0, 940.0, 3672.0, 740.0, 899.0, 11000.0, 168.0, 4500.0, 6152.0, 2210.0, 350.0, 425.0, 850.0, 251.0, 835.0, 30417.0, 700.0, 45250.0, 24588.0, 5597.0, 999.0, 4950.0, 805.0, 280.0, 1.0, 1195.0, 5.0, 2.0, 320.0, 1875.0, 4200.0, 550.0, 1230.0, 880.0, 1440.0, 2745.0, 12150.0, 520.0, 600.0, 3901.0, 1450.0, 3950.0, 760.0, 1125.0, 150.0, 16460.0, 599.0, 155.0, 250.0, 25999.0, 920.0, 3900.0, 3600.0, 140.0, 900.0, 1050.0, 3750.0, 455.0, 2670.0, 10740.0, 1399.0, 480.0, 1000.0, 4530.0, 1890.0, 8.0, 1350.0, 2490.0, 1650.0, 1870.0, 2050.0, 2160.0, 975.0, 1099.0, 720.0, 640.0, 3290.0, 1013.0, 323.0, ...]                                                                                                                                                                                                                                                                                                                                   \n",
              "5   [Women's Fashion, Beauty & Grooming, Soghaat, Mobiles & Tablets, Appliances, Home & Living, Men's Fashion, Kids & Baby, \\N, Others, Entertainment, Computing, Superstore, Health & Sports, Books, School & Education]                                                                                                                                                                                                                                                                                                                                                                                                                                                                                                                                                                                                                                                                                                                                                                                                                                                                                                   \n",
              "6   [0.0, 300.0, 82.5, 217.5, 19.15, 180.85, 77.72, 122.28, 200.0, 149.3, 50.7, 148.57, 51.43, 81.52, 40.76, 157.38, 142.62, 54.79, 35.62, 49.32, 60.27, 1300.65, 1699.35, 136.84, 63.16, 225.0, 75.0, 100.0, 1.0, 141.66, 83.34, 52.63, 94.74, 242.86, 57.14, 134.21, 165.79, 111.11, 88.89, 500.0, 53.73, 52.24, 94.03, 133.33, 66.67, 125.31, 74.69, 195.0, 142.0, 55.0, 182.0, 180.0, 110.0, 70.0, 464.49, 35.51, 246.27, 253.73, 361.7, 138.3, 72.66, 31.14, 55.36, 147.06, 121.11, 1021.11, 245.46, 316.15, 417.28, 93.9, 98.59, 157.28, 75.12, 208.45, 291.55, 120.0, 160.0, 40.0, 423.66, 76.34, 430.23, 69.77, 156.76, 43.24, 44.69, 66.84, 343.77, 194.95, 87.16, 217.89, 351.25, 148.75, 458.0, 42.0, 5000.0, 2.0, 10.0, 2.31, 7.69, 207.6, ...]                                                                                                                                                                                                                                                                                                                                                                 \n",
              "7   [cod, ublcreditcard, mygateway, customercredit, cashatdoorstep, mcblite, internetbanking, marketingexpense, productcredit, financesettlement, Payaxis, jazzvoucher, jazzwallet, Easypay, Easypay_MA, easypay_voucher, bankalfalah, apg]                                                                                                                                                                                                                                                                                                                                                                                                                                                                                                                                                                                                                                                                                                                                                                                                                                                                                 \n",
              "8   [7/1/2016, 7/2/2016, 7/3/2016, 7/4/2016, 7/5/2016, 7/6/2016, 7/7/2016, 7/8/2016, 7/9/2016, 7/10/2016, 7/11/2016, 7/12/2016, 7/13/2016, 7/14/2016, 7/15/2016, 7/16/2016, 7/17/2016, 7/18/2016, 7/19/2016, 7/20/2016, 7/21/2016, 7/22/2016, 7/23/2016, 7/24/2016, 7/25/2016, 7/26/2016, 7/27/2016, 7/28/2016, 7/29/2016, 7/30/2016, 7/31/2016, 8/1/2016, 8/2/2016, 8/3/2016, 8/4/2016, 8/5/2016, 8/6/2016, 8/7/2016, 8/8/2016, 8/9/2016, 8/10/2016, 8/11/2016, 8/12/2016, 8/13/2016, 8/14/2016, 8/15/2016, 8/16/2016, 8/17/2016, 8/18/2016, 8/19/2016, 8/20/2016, 8/21/2016, 8/22/2016, 8/23/2016, 8/24/2016, 8/25/2016, 8/26/2016, 8/27/2016, 8/28/2016, 8/29/2016, 8/30/2016, 8/31/2016, 9/1/2016, 9/2/2016, 9/3/2016, 9/4/2016, 9/5/2016, 9/6/2016, 9/7/2016, 9/8/2016, 9/9/2016, 9/10/2016, 9/11/2016, 9/12/2016, 9/13/2016, 9/14/2016, 9/15/2016, 9/16/2016, 9/17/2016, 9/18/2016, 9/19/2016, 9/20/2016, 9/21/2016, 9/22/2016, 9/23/2016, 9/24/2016, 9/25/2016, 9/26/2016, 9/27/2016, 9/28/2016, 9/29/2016, 9/30/2016, 10/1/2016, 10/2/2016, 10/3/2016, 10/4/2016, 10/5/2016, 10/6/2016, 10/7/2016, 10/8/2016, ...]  \n",
              "9   [#REF!, Gross, Net, Valid]                                                                                                                                                                                                                                                                                                                                                                                                                                                                                                                                                                                                                                                                                                                                                                                                                                                                                                                                                                                                                                                                                              \n",
              "10  [ 1,950 ,  240 ,  2,450 ,  360 ,  1,110 ,  80 ,  170 ,  96,499 ,  5,500 ,  210 ,  156 ,  120 ,  320 ,  1,550 ,  420 ,  490 ,  899 ,  149 ,  1,000 ,  1,913 ,  500 ,  3,000 ,  450 ,  20,999 ,  165 ,  435 ,  90 ,  850 ,  3,672 ,  7,400 ,  3,600 ,  143 ,  225 ,  4,500 ,  3,156 ,  2,996 ,  600 ,  300 ,  930 ,  380 ,  350 ,  425 ,  251 ,  510 ,  325 ,  30,417 ,  700 ,  45,250 ,  24,300 ,  288 ,  5,597 ,  999 ,  4,950 ,  805 ,  280 ,  1 ,  760 ,  5 ,  2 ,  1,875 ,  4,200 ,  550 ,  1,230 ,  370 ,  1,440 ,  795 ,  4,750 ,  520 ,  260 ,  3,900 ,  1,450 ,  3,950 ,  190 ,  16,460 ,  599 ,  265 ,  250 ,  25,999 ,  150 ,  75 ,  140 ,  1,050 ,  3,750 ,  455 ,  2,670 ,  10,740 ,  230 ,  799 ,  480 ,  1,200 ,  4,530 ,  1,890 ,  1,350 ,  2,490 ,  1,650 ,  1,870 ,  2,050 ,  995 ,  2,160 ,  285 , ...]                                                                                                                                                                                                                                                                                                \n",
              "11  [2016.0, 2017.0, 2018.0]                                                                                                                                                                                                                                                                                                                                                                                                                                                                                                                                                                                                                                                                                                                                                                                                                                                                                                                                                                                                                                                                                                \n",
              "12  [7.0, 8.0, 9.0, 10.0, 11.0, 12.0, 1.0, 2.0, 3.0, 4.0, 5.0, 6.0]                                                                                                                                                                                                                                                                                                                                                                                                                                                                                                                                                                                                                                                                                                                                                                                                                                                                                                                                                                                                                                                         \n",
              "13  [2016-7, 2016-8, 2016-9, 2016-10, 2016-11, 2016-12, 2017-1, 2017-2, 2017-3, 2017-4, 2017-5, 2017-6, 2017-7, 2017-8, 2017-9, 2017-10, 2017-11, 2017-12, 2018-1, 2018-2, 2018-3, 2018-4, 2018-5, 2018-6, 2018-7, 2018-8]                                                                                                                                                                                                                                                                                                                                                                                                                                                                                                                                                                                                                                                                                                                                                                                                                                                                                                  \n",
              "14  [7-2016, 8-2016, 9-2016, 10-2016, 11-2016, 12-2016, 1-2017, 2-2017, 3-2017, 4-2017, 5-2017, 6-2017, 7-2017, 8-2017, 9-2017, 10-2017, 11-2017, 12-2017, 2-2018, 1-2018, 3-2018, 4-2018, 5-2018, 6-2018, 7-2018, 8-2018]                                                                                                                                                                                                                                                                                                                                                                                                                                                                                                                                                                                                                                                                                                                                                                                                                                                                                                  \n",
              "15  [FY17, FY18, FY19]                                                                                                                                                                                                                                                                                                                                                                                                                                                                                                                                                                                                                                                                                                                                                                                                                                                                                                                                                                                                                                                                                                      "
            ],
            "text/html": [
              "\n",
              "  <div id=\"df-830caab1-11ac-49c6-9c44-407131725e22\">\n",
              "    <div class=\"colab-df-container\">\n",
              "      <div>\n",
              "<style scoped>\n",
              "    .dataframe tbody tr th:only-of-type {\n",
              "        vertical-align: middle;\n",
              "    }\n",
              "\n",
              "    .dataframe tbody tr th {\n",
              "        vertical-align: top;\n",
              "    }\n",
              "\n",
              "    .dataframe thead th {\n",
              "        text-align: right;\n",
              "    }\n",
              "</style>\n",
              "<table border=\"1\" class=\"dataframe\">\n",
              "  <thead>\n",
              "    <tr style=\"text-align: right;\">\n",
              "      <th></th>\n",
              "      <th>Column Name</th>\n",
              "      <th>Number of Unique</th>\n",
              "      <th>Unique Sample</th>\n",
              "    </tr>\n",
              "  </thead>\n",
              "  <tbody>\n",
              "    <tr>\n",
              "      <th>0</th>\n",
              "      <td>status</td>\n",
              "      <td>16</td>\n",
              "      <td>[complete, canceled, order_refunded, received, refund, closed, fraud, holded, exchange, pending_paypal, paid, \\N, cod, pending, processing, payment_review]</td>\n",
              "    </tr>\n",
              "    <tr>\n",
              "      <th>1</th>\n",
              "      <td>created_at</td>\n",
              "      <td>789</td>\n",
              "      <td>[7/1/2016, 7/2/2016, 7/3/2016, 7/4/2016, 7/5/2016, 7/6/2016, 7/7/2016, 7/8/2016, 7/9/2016, 7/10/2016, 7/11/2016, 7/12/2016, 7/13/2016, 7/14/2016, 7/15/2016, 7/16/2016, 7/17/2016, 7/18/2016, 7/19/2016, 7/20/2016, 7/21/2016, 7/22/2016, 7/23/2016, 7/24/2016, 7/25/2016, 7/26/2016, 7/27/2016, 7/28/2016, 7/29/2016, 7/30/2016, 7/31/2016, 8/1/2016, 8/2/2016, 8/3/2016, 8/4/2016, 8/5/2016, 8/6/2016, 8/7/2016, 8/8/2016, 8/9/2016, 8/10/2016, 8/11/2016, 8/12/2016, 8/13/2016, 8/14/2016, 8/15/2016, 8/16/2016, 8/17/2016, 8/18/2016, 8/19/2016, 8/20/2016, 8/21/2016, 8/22/2016, 8/23/2016, 8/24/2016, 8/25/2016, 8/26/2016, 8/27/2016, 8/28/2016, 8/29/2016, 8/30/2016, 8/31/2016, 9/1/2016, 9/2/2016, 9/3/2016, 9/4/2016, 9/5/2016, 9/6/2016, 9/7/2016, 9/8/2016, 9/9/2016, 9/10/2016, 9/11/2016, 9/12/2016, 9/13/2016, 9/14/2016, 9/15/2016, 9/16/2016, 9/17/2016, 9/18/2016, 9/19/2016, 9/20/2016, 9/21/2016, 9/22/2016, 9/23/2016, 9/24/2016, 9/25/2016, 9/26/2016, 9/27/2016, 9/28/2016, 9/29/2016, 9/30/2016, 10/1/2016, 10/2/2016, 10/3/2016, 10/4/2016, 10/5/2016, 10/6/2016, 10/7/2016, 10/8/2016, ...]</td>\n",
              "    </tr>\n",
              "    <tr>\n",
              "      <th>2</th>\n",
              "      <td>price</td>\n",
              "      <td>9119</td>\n",
              "      <td>[1950.0, 240.0, 2450.0, 360.0, 555.0, 80.0, 170.0, 96499.0, 5500.0, 210.0, 156.0, 120.0, 320.0, 1550.0, 420.0, 490.0, 899.25, 899.0, 149.0, 1000.0, 1913.0, 500.0, 100.0, 1500.0, 450.0, 20999.0, 165.0, 435.0, 90.0, 850.0, 3672.0, 7400.0, 3600.0, 143.0, 225.0, 4500.0, 3156.0, 2996.0, 300.0, 150.0, 465.0, 380.0, 350.0, 425.0, 251.0, 510.0, 325.0, 30417.0, 45250.0, 8100.0, 144.0, 5597.0, 999.0, 4950.0, 805.0, 280.0, 1.0, 760.0, 1875.0, 4200.0, 550.0, 1230.0, 370.0, 2.0, 795.0, 4750.0, 520.0, 260.0, 1450.0, 3950.0, 190.0, 16460.0, 599.0, 265.0, 250.0, 25999.0, 3900.0, 75.0, 140.0, 1050.0, 3750.0, 455.0, 1335.0, 10740.0, 230.0, 799.0, 480.0, 1200.0, 4530.0, 1890.0, 185.0, 5.0, 1350.0, 2490.0, 1650.0, 1870.0, 2050.0, 995.0, 285.0, 1099.0, ...]</td>\n",
              "    </tr>\n",
              "    <tr>\n",
              "      <th>3</th>\n",
              "      <td>qty_ordered</td>\n",
              "      <td>73</td>\n",
              "      <td>[1.0, 2.0, 5.0, 3.0, 4.0, 6.0, 10.0, 34.0, 9.0, 7.0, 14.0, 11.0, 15.0, 8.0, 20.0, 27.0, 12.0, 13.0, 130.0, 16.0, 40.0, 100.0, 50.0, 120.0, 25.0, 22.0, 200.0, 31.0, 97.0, 35.0, 119.0, 24.0, 99.0, 38.0, 30.0, 26.0, 48.0, 19.0, 32.0, 28.0, 37.0, 18.0, 150.0, 300.0, 21.0, 49.0, 17.0, 45.0, 36.0, 56.0, 72.0, 502.0, 33.0, 29.0, 304.0, 1000.0, 52.0, 125.0, 141.0, 180.0, 186.0, 96.0, 187.0, 144.0, 66.0, 60.0, 185.0, 90.0, 70.0, 23.0, 500.0, 380.0, 75.0]</td>\n",
              "    </tr>\n",
              "    <tr>\n",
              "      <th>4</th>\n",
              "      <td>grand_total</td>\n",
              "      <td>36828</td>\n",
              "      <td>[1950.0, 240.0, 2450.0, 60.0, 1110.0, 80.0, 170.0, 96499.0, 5500.0, 366.0, 120.0, 0.0, 1550.0, 1270.0, 2118.25, 298.0, 3826.0, 3000.0, 450.0, 20999.0, 360.0, 300.0, 940.0, 3672.0, 740.0, 899.0, 11000.0, 168.0, 4500.0, 6152.0, 2210.0, 350.0, 425.0, 850.0, 251.0, 835.0, 30417.0, 700.0, 45250.0, 24588.0, 5597.0, 999.0, 4950.0, 805.0, 280.0, 1.0, 1195.0, 5.0, 2.0, 320.0, 1875.0, 4200.0, 550.0, 1230.0, 880.0, 1440.0, 2745.0, 12150.0, 520.0, 600.0, 3901.0, 1450.0, 3950.0, 760.0, 1125.0, 150.0, 16460.0, 599.0, 155.0, 250.0, 25999.0, 920.0, 3900.0, 3600.0, 140.0, 900.0, 1050.0, 3750.0, 455.0, 2670.0, 10740.0, 1399.0, 480.0, 1000.0, 4530.0, 1890.0, 8.0, 1350.0, 2490.0, 1650.0, 1870.0, 2050.0, 2160.0, 975.0, 1099.0, 720.0, 640.0, 3290.0, 1013.0, 323.0, ...]</td>\n",
              "    </tr>\n",
              "    <tr>\n",
              "      <th>5</th>\n",
              "      <td>category_name_1</td>\n",
              "      <td>16</td>\n",
              "      <td>[Women's Fashion, Beauty &amp; Grooming, Soghaat, Mobiles &amp; Tablets, Appliances, Home &amp; Living, Men's Fashion, Kids &amp; Baby, \\N, Others, Entertainment, Computing, Superstore, Health &amp; Sports, Books, School &amp; Education]</td>\n",
              "    </tr>\n",
              "    <tr>\n",
              "      <th>6</th>\n",
              "      <td>discount_amount</td>\n",
              "      <td>28058</td>\n",
              "      <td>[0.0, 300.0, 82.5, 217.5, 19.15, 180.85, 77.72, 122.28, 200.0, 149.3, 50.7, 148.57, 51.43, 81.52, 40.76, 157.38, 142.62, 54.79, 35.62, 49.32, 60.27, 1300.65, 1699.35, 136.84, 63.16, 225.0, 75.0, 100.0, 1.0, 141.66, 83.34, 52.63, 94.74, 242.86, 57.14, 134.21, 165.79, 111.11, 88.89, 500.0, 53.73, 52.24, 94.03, 133.33, 66.67, 125.31, 74.69, 195.0, 142.0, 55.0, 182.0, 180.0, 110.0, 70.0, 464.49, 35.51, 246.27, 253.73, 361.7, 138.3, 72.66, 31.14, 55.36, 147.06, 121.11, 1021.11, 245.46, 316.15, 417.28, 93.9, 98.59, 157.28, 75.12, 208.45, 291.55, 120.0, 160.0, 40.0, 423.66, 76.34, 430.23, 69.77, 156.76, 43.24, 44.69, 66.84, 343.77, 194.95, 87.16, 217.89, 351.25, 148.75, 458.0, 42.0, 5000.0, 2.0, 10.0, 2.31, 7.69, 207.6, ...]</td>\n",
              "    </tr>\n",
              "    <tr>\n",
              "      <th>7</th>\n",
              "      <td>payment_method</td>\n",
              "      <td>18</td>\n",
              "      <td>[cod, ublcreditcard, mygateway, customercredit, cashatdoorstep, mcblite, internetbanking, marketingexpense, productcredit, financesettlement, Payaxis, jazzvoucher, jazzwallet, Easypay, Easypay_MA, easypay_voucher, bankalfalah, apg]</td>\n",
              "    </tr>\n",
              "    <tr>\n",
              "      <th>8</th>\n",
              "      <td>Working Date</td>\n",
              "      <td>789</td>\n",
              "      <td>[7/1/2016, 7/2/2016, 7/3/2016, 7/4/2016, 7/5/2016, 7/6/2016, 7/7/2016, 7/8/2016, 7/9/2016, 7/10/2016, 7/11/2016, 7/12/2016, 7/13/2016, 7/14/2016, 7/15/2016, 7/16/2016, 7/17/2016, 7/18/2016, 7/19/2016, 7/20/2016, 7/21/2016, 7/22/2016, 7/23/2016, 7/24/2016, 7/25/2016, 7/26/2016, 7/27/2016, 7/28/2016, 7/29/2016, 7/30/2016, 7/31/2016, 8/1/2016, 8/2/2016, 8/3/2016, 8/4/2016, 8/5/2016, 8/6/2016, 8/7/2016, 8/8/2016, 8/9/2016, 8/10/2016, 8/11/2016, 8/12/2016, 8/13/2016, 8/14/2016, 8/15/2016, 8/16/2016, 8/17/2016, 8/18/2016, 8/19/2016, 8/20/2016, 8/21/2016, 8/22/2016, 8/23/2016, 8/24/2016, 8/25/2016, 8/26/2016, 8/27/2016, 8/28/2016, 8/29/2016, 8/30/2016, 8/31/2016, 9/1/2016, 9/2/2016, 9/3/2016, 9/4/2016, 9/5/2016, 9/6/2016, 9/7/2016, 9/8/2016, 9/9/2016, 9/10/2016, 9/11/2016, 9/12/2016, 9/13/2016, 9/14/2016, 9/15/2016, 9/16/2016, 9/17/2016, 9/18/2016, 9/19/2016, 9/20/2016, 9/21/2016, 9/22/2016, 9/23/2016, 9/24/2016, 9/25/2016, 9/26/2016, 9/27/2016, 9/28/2016, 9/29/2016, 9/30/2016, 10/1/2016, 10/2/2016, 10/3/2016, 10/4/2016, 10/5/2016, 10/6/2016, 10/7/2016, 10/8/2016, ...]</td>\n",
              "    </tr>\n",
              "    <tr>\n",
              "      <th>9</th>\n",
              "      <td>BI Status</td>\n",
              "      <td>4</td>\n",
              "      <td>[#REF!, Gross, Net, Valid]</td>\n",
              "    </tr>\n",
              "    <tr>\n",
              "      <th>10</th>\n",
              "      <td>MV</td>\n",
              "      <td>9720</td>\n",
              "      <td>[ 1,950 ,  240 ,  2,450 ,  360 ,  1,110 ,  80 ,  170 ,  96,499 ,  5,500 ,  210 ,  156 ,  120 ,  320 ,  1,550 ,  420 ,  490 ,  899 ,  149 ,  1,000 ,  1,913 ,  500 ,  3,000 ,  450 ,  20,999 ,  165 ,  435 ,  90 ,  850 ,  3,672 ,  7,400 ,  3,600 ,  143 ,  225 ,  4,500 ,  3,156 ,  2,996 ,  600 ,  300 ,  930 ,  380 ,  350 ,  425 ,  251 ,  510 ,  325 ,  30,417 ,  700 ,  45,250 ,  24,300 ,  288 ,  5,597 ,  999 ,  4,950 ,  805 ,  280 ,  1 ,  760 ,  5 ,  2 ,  1,875 ,  4,200 ,  550 ,  1,230 ,  370 ,  1,440 ,  795 ,  4,750 ,  520 ,  260 ,  3,900 ,  1,450 ,  3,950 ,  190 ,  16,460 ,  599 ,  265 ,  250 ,  25,999 ,  150 ,  75 ,  140 ,  1,050 ,  3,750 ,  455 ,  2,670 ,  10,740 ,  230 ,  799 ,  480 ,  1,200 ,  4,530 ,  1,890 ,  1,350 ,  2,490 ,  1,650 ,  1,870 ,  2,050 ,  995 ,  2,160 ,  285 , ...]</td>\n",
              "    </tr>\n",
              "    <tr>\n",
              "      <th>11</th>\n",
              "      <td>Year</td>\n",
              "      <td>3</td>\n",
              "      <td>[2016.0, 2017.0, 2018.0]</td>\n",
              "    </tr>\n",
              "    <tr>\n",
              "      <th>12</th>\n",
              "      <td>Month</td>\n",
              "      <td>12</td>\n",
              "      <td>[7.0, 8.0, 9.0, 10.0, 11.0, 12.0, 1.0, 2.0, 3.0, 4.0, 5.0, 6.0]</td>\n",
              "    </tr>\n",
              "    <tr>\n",
              "      <th>13</th>\n",
              "      <td>Customer Since</td>\n",
              "      <td>26</td>\n",
              "      <td>[2016-7, 2016-8, 2016-9, 2016-10, 2016-11, 2016-12, 2017-1, 2017-2, 2017-3, 2017-4, 2017-5, 2017-6, 2017-7, 2017-8, 2017-9, 2017-10, 2017-11, 2017-12, 2018-1, 2018-2, 2018-3, 2018-4, 2018-5, 2018-6, 2018-7, 2018-8]</td>\n",
              "    </tr>\n",
              "    <tr>\n",
              "      <th>14</th>\n",
              "      <td>M-Y</td>\n",
              "      <td>26</td>\n",
              "      <td>[7-2016, 8-2016, 9-2016, 10-2016, 11-2016, 12-2016, 1-2017, 2-2017, 3-2017, 4-2017, 5-2017, 6-2017, 7-2017, 8-2017, 9-2017, 10-2017, 11-2017, 12-2017, 2-2018, 1-2018, 3-2018, 4-2018, 5-2018, 6-2018, 7-2018, 8-2018]</td>\n",
              "    </tr>\n",
              "    <tr>\n",
              "      <th>15</th>\n",
              "      <td>FY</td>\n",
              "      <td>3</td>\n",
              "      <td>[FY17, FY18, FY19]</td>\n",
              "    </tr>\n",
              "  </tbody>\n",
              "</table>\n",
              "</div>\n",
              "      <button class=\"colab-df-convert\" onclick=\"convertToInteractive('df-830caab1-11ac-49c6-9c44-407131725e22')\"\n",
              "              title=\"Convert this dataframe to an interactive table.\"\n",
              "              style=\"display:none;\">\n",
              "        \n",
              "  <svg xmlns=\"http://www.w3.org/2000/svg\" height=\"24px\"viewBox=\"0 0 24 24\"\n",
              "       width=\"24px\">\n",
              "    <path d=\"M0 0h24v24H0V0z\" fill=\"none\"/>\n",
              "    <path d=\"M18.56 5.44l.94 2.06.94-2.06 2.06-.94-2.06-.94-.94-2.06-.94 2.06-2.06.94zm-11 1L8.5 8.5l.94-2.06 2.06-.94-2.06-.94L8.5 2.5l-.94 2.06-2.06.94zm10 10l.94 2.06.94-2.06 2.06-.94-2.06-.94-.94-2.06-.94 2.06-2.06.94z\"/><path d=\"M17.41 7.96l-1.37-1.37c-.4-.4-.92-.59-1.43-.59-.52 0-1.04.2-1.43.59L10.3 9.45l-7.72 7.72c-.78.78-.78 2.05 0 2.83L4 21.41c.39.39.9.59 1.41.59.51 0 1.02-.2 1.41-.59l7.78-7.78 2.81-2.81c.8-.78.8-2.07 0-2.86zM5.41 20L4 18.59l7.72-7.72 1.47 1.35L5.41 20z\"/>\n",
              "  </svg>\n",
              "      </button>\n",
              "      \n",
              "  <style>\n",
              "    .colab-df-container {\n",
              "      display:flex;\n",
              "      flex-wrap:wrap;\n",
              "      gap: 12px;\n",
              "    }\n",
              "\n",
              "    .colab-df-convert {\n",
              "      background-color: #E8F0FE;\n",
              "      border: none;\n",
              "      border-radius: 50%;\n",
              "      cursor: pointer;\n",
              "      display: none;\n",
              "      fill: #1967D2;\n",
              "      height: 32px;\n",
              "      padding: 0 0 0 0;\n",
              "      width: 32px;\n",
              "    }\n",
              "\n",
              "    .colab-df-convert:hover {\n",
              "      background-color: #E2EBFA;\n",
              "      box-shadow: 0px 1px 2px rgba(60, 64, 67, 0.3), 0px 1px 3px 1px rgba(60, 64, 67, 0.15);\n",
              "      fill: #174EA6;\n",
              "    }\n",
              "\n",
              "    [theme=dark] .colab-df-convert {\n",
              "      background-color: #3B4455;\n",
              "      fill: #D2E3FC;\n",
              "    }\n",
              "\n",
              "    [theme=dark] .colab-df-convert:hover {\n",
              "      background-color: #434B5C;\n",
              "      box-shadow: 0px 1px 3px 1px rgba(0, 0, 0, 0.15);\n",
              "      filter: drop-shadow(0px 1px 2px rgba(0, 0, 0, 0.3));\n",
              "      fill: #FFFFFF;\n",
              "    }\n",
              "  </style>\n",
              "\n",
              "      <script>\n",
              "        const buttonEl =\n",
              "          document.querySelector('#df-830caab1-11ac-49c6-9c44-407131725e22 button.colab-df-convert');\n",
              "        buttonEl.style.display =\n",
              "          google.colab.kernel.accessAllowed ? 'block' : 'none';\n",
              "\n",
              "        async function convertToInteractive(key) {\n",
              "          const element = document.querySelector('#df-830caab1-11ac-49c6-9c44-407131725e22');\n",
              "          const dataTable =\n",
              "            await google.colab.kernel.invokeFunction('convertToInteractive',\n",
              "                                                     [key], {});\n",
              "          if (!dataTable) return;\n",
              "\n",
              "          const docLinkHtml = 'Like what you see? Visit the ' +\n",
              "            '<a target=\"_blank\" href=https://colab.research.google.com/notebooks/data_table.ipynb>data table notebook</a>'\n",
              "            + ' to learn more about interactive tables.';\n",
              "          element.innerHTML = '';\n",
              "          dataTable['output_type'] = 'display_data';\n",
              "          await google.colab.output.renderOutput(dataTable, element);\n",
              "          const docLink = document.createElement('div');\n",
              "          docLink.innerHTML = docLinkHtml;\n",
              "          element.appendChild(docLink);\n",
              "        }\n",
              "      </script>\n",
              "    </div>\n",
              "  </div>\n",
              "  "
            ]
          },
          "metadata": {},
          "execution_count": 85
        }
      ],
      "source": [
        "pd.set_option('display.max_colwidth', -1)\n",
        "listItem = []\n",
        "for col in df.columns :\n",
        "    listItem.append( [col, df[col].nunique(), df[col].unique()])\n",
        "\n",
        "tabel1Desc = pd.DataFrame(columns=['Column Name', 'Number of Unique', 'Unique Sample'],\n",
        "                     data=listItem)\n",
        "tabel1Desc"
      ]
    },
    {
      "cell_type": "markdown",
      "source": [
        "data anomali yaitu:\n",
        "1. `#REF!` pada kolom `BI Status`\n",
        "1. `\\\\N` pada kolom `status` dan `category_name_1`."
      ],
      "metadata": {
        "id": "cYs-BLKcMjQu"
      }
    },
    {
      "cell_type": "code",
      "source": [
        "df = df[(df['BI Status'] != '#REF!') & (df['status'] != '\\\\N') & (df['category_name_1'] != '\\\\N')]"
      ],
      "metadata": {
        "id": "tvkPbZSTL8xN"
      },
      "execution_count": 86,
      "outputs": []
    },
    {
      "cell_type": "markdown",
      "metadata": {
        "id": "sjx3_fBDc47e"
      },
      "source": [
        "## Data yang sudah bersih\n",
        "Kita sudah selesai membersihkan data kita, sekarang, mari kita lihat sekilas informasi dari data yang sudah kita bersihkan"
      ]
    },
    {
      "cell_type": "code",
      "execution_count": 87,
      "metadata": {
        "id": "r19CX77wc47e",
        "outputId": "959180e5-5fcb-4f7d-b1f9-aaf581c8fd60",
        "colab": {
          "base_uri": "https://localhost:8080/",
          "height": 568
        }
      },
      "outputs": [
        {
          "output_type": "stream",
          "name": "stdout",
          "text": [
            "(576483, 16)\n"
          ]
        },
        {
          "output_type": "execute_result",
          "data": {
            "text/plain": [
              "       dataFeatures dataType  null  unique                uniqueSample\n",
              "0   status           object   0     15      [canceled, pending_paypal]\n",
              "1   created_at       object   0     789     [2/13/2018, 6/23/2018]    \n",
              "2   price            float64  0     9102    [1984.0, 2865.0]          \n",
              "3   qty_ordered      float64  0     72      [29.0, 12.0]              \n",
              "4   grand_total      float64  0     36758   [25705.52, 1105.3]        \n",
              "5   category_name_1  object   0     15      [Soghaat, Women's Fashion]\n",
              "6   discount_amount  float64  0     27975   [91.03, 158.8]            \n",
              "7   payment_method   object   0     18      [cod, marketingexpense]   \n",
              "8   Working Date     object   0     789     [1/19/2018, 10/28/2016]   \n",
              "9   BI Status        object   0     3       [Net, Valid]              \n",
              "10  MV               object   0     9701    [ 6,992 ,  3,011 ]        \n",
              "11  Year             float64  0     3       [2017.0, 2018.0]          \n",
              "12  Month            float64  0     12      [4.0, 7.0]                \n",
              "13  Customer Since   object   0     26      [2017-5, 2016-7]          \n",
              "14  M-Y              object   0     26      [7-2016, 12-2017]         \n",
              "15  FY               object   0     3       [FY19, FY17]              "
            ],
            "text/html": [
              "\n",
              "  <div id=\"df-b2df15b0-ecc0-41b8-a04a-4b4340db5ede\">\n",
              "    <div class=\"colab-df-container\">\n",
              "      <div>\n",
              "<style scoped>\n",
              "    .dataframe tbody tr th:only-of-type {\n",
              "        vertical-align: middle;\n",
              "    }\n",
              "\n",
              "    .dataframe tbody tr th {\n",
              "        vertical-align: top;\n",
              "    }\n",
              "\n",
              "    .dataframe thead th {\n",
              "        text-align: right;\n",
              "    }\n",
              "</style>\n",
              "<table border=\"1\" class=\"dataframe\">\n",
              "  <thead>\n",
              "    <tr style=\"text-align: right;\">\n",
              "      <th></th>\n",
              "      <th>dataFeatures</th>\n",
              "      <th>dataType</th>\n",
              "      <th>null</th>\n",
              "      <th>unique</th>\n",
              "      <th>uniqueSample</th>\n",
              "    </tr>\n",
              "  </thead>\n",
              "  <tbody>\n",
              "    <tr>\n",
              "      <th>0</th>\n",
              "      <td>status</td>\n",
              "      <td>object</td>\n",
              "      <td>0</td>\n",
              "      <td>15</td>\n",
              "      <td>[canceled, pending_paypal]</td>\n",
              "    </tr>\n",
              "    <tr>\n",
              "      <th>1</th>\n",
              "      <td>created_at</td>\n",
              "      <td>object</td>\n",
              "      <td>0</td>\n",
              "      <td>789</td>\n",
              "      <td>[2/13/2018, 6/23/2018]</td>\n",
              "    </tr>\n",
              "    <tr>\n",
              "      <th>2</th>\n",
              "      <td>price</td>\n",
              "      <td>float64</td>\n",
              "      <td>0</td>\n",
              "      <td>9102</td>\n",
              "      <td>[1984.0, 2865.0]</td>\n",
              "    </tr>\n",
              "    <tr>\n",
              "      <th>3</th>\n",
              "      <td>qty_ordered</td>\n",
              "      <td>float64</td>\n",
              "      <td>0</td>\n",
              "      <td>72</td>\n",
              "      <td>[29.0, 12.0]</td>\n",
              "    </tr>\n",
              "    <tr>\n",
              "      <th>4</th>\n",
              "      <td>grand_total</td>\n",
              "      <td>float64</td>\n",
              "      <td>0</td>\n",
              "      <td>36758</td>\n",
              "      <td>[25705.52, 1105.3]</td>\n",
              "    </tr>\n",
              "    <tr>\n",
              "      <th>5</th>\n",
              "      <td>category_name_1</td>\n",
              "      <td>object</td>\n",
              "      <td>0</td>\n",
              "      <td>15</td>\n",
              "      <td>[Soghaat, Women's Fashion]</td>\n",
              "    </tr>\n",
              "    <tr>\n",
              "      <th>6</th>\n",
              "      <td>discount_amount</td>\n",
              "      <td>float64</td>\n",
              "      <td>0</td>\n",
              "      <td>27975</td>\n",
              "      <td>[91.03, 158.8]</td>\n",
              "    </tr>\n",
              "    <tr>\n",
              "      <th>7</th>\n",
              "      <td>payment_method</td>\n",
              "      <td>object</td>\n",
              "      <td>0</td>\n",
              "      <td>18</td>\n",
              "      <td>[cod, marketingexpense]</td>\n",
              "    </tr>\n",
              "    <tr>\n",
              "      <th>8</th>\n",
              "      <td>Working Date</td>\n",
              "      <td>object</td>\n",
              "      <td>0</td>\n",
              "      <td>789</td>\n",
              "      <td>[1/19/2018, 10/28/2016]</td>\n",
              "    </tr>\n",
              "    <tr>\n",
              "      <th>9</th>\n",
              "      <td>BI Status</td>\n",
              "      <td>object</td>\n",
              "      <td>0</td>\n",
              "      <td>3</td>\n",
              "      <td>[Net, Valid]</td>\n",
              "    </tr>\n",
              "    <tr>\n",
              "      <th>10</th>\n",
              "      <td>MV</td>\n",
              "      <td>object</td>\n",
              "      <td>0</td>\n",
              "      <td>9701</td>\n",
              "      <td>[ 6,992 ,  3,011 ]</td>\n",
              "    </tr>\n",
              "    <tr>\n",
              "      <th>11</th>\n",
              "      <td>Year</td>\n",
              "      <td>float64</td>\n",
              "      <td>0</td>\n",
              "      <td>3</td>\n",
              "      <td>[2017.0, 2018.0]</td>\n",
              "    </tr>\n",
              "    <tr>\n",
              "      <th>12</th>\n",
              "      <td>Month</td>\n",
              "      <td>float64</td>\n",
              "      <td>0</td>\n",
              "      <td>12</td>\n",
              "      <td>[4.0, 7.0]</td>\n",
              "    </tr>\n",
              "    <tr>\n",
              "      <th>13</th>\n",
              "      <td>Customer Since</td>\n",
              "      <td>object</td>\n",
              "      <td>0</td>\n",
              "      <td>26</td>\n",
              "      <td>[2017-5, 2016-7]</td>\n",
              "    </tr>\n",
              "    <tr>\n",
              "      <th>14</th>\n",
              "      <td>M-Y</td>\n",
              "      <td>object</td>\n",
              "      <td>0</td>\n",
              "      <td>26</td>\n",
              "      <td>[7-2016, 12-2017]</td>\n",
              "    </tr>\n",
              "    <tr>\n",
              "      <th>15</th>\n",
              "      <td>FY</td>\n",
              "      <td>object</td>\n",
              "      <td>0</td>\n",
              "      <td>3</td>\n",
              "      <td>[FY19, FY17]</td>\n",
              "    </tr>\n",
              "  </tbody>\n",
              "</table>\n",
              "</div>\n",
              "      <button class=\"colab-df-convert\" onclick=\"convertToInteractive('df-b2df15b0-ecc0-41b8-a04a-4b4340db5ede')\"\n",
              "              title=\"Convert this dataframe to an interactive table.\"\n",
              "              style=\"display:none;\">\n",
              "        \n",
              "  <svg xmlns=\"http://www.w3.org/2000/svg\" height=\"24px\"viewBox=\"0 0 24 24\"\n",
              "       width=\"24px\">\n",
              "    <path d=\"M0 0h24v24H0V0z\" fill=\"none\"/>\n",
              "    <path d=\"M18.56 5.44l.94 2.06.94-2.06 2.06-.94-2.06-.94-.94-2.06-.94 2.06-2.06.94zm-11 1L8.5 8.5l.94-2.06 2.06-.94-2.06-.94L8.5 2.5l-.94 2.06-2.06.94zm10 10l.94 2.06.94-2.06 2.06-.94-2.06-.94-.94-2.06-.94 2.06-2.06.94z\"/><path d=\"M17.41 7.96l-1.37-1.37c-.4-.4-.92-.59-1.43-.59-.52 0-1.04.2-1.43.59L10.3 9.45l-7.72 7.72c-.78.78-.78 2.05 0 2.83L4 21.41c.39.39.9.59 1.41.59.51 0 1.02-.2 1.41-.59l7.78-7.78 2.81-2.81c.8-.78.8-2.07 0-2.86zM5.41 20L4 18.59l7.72-7.72 1.47 1.35L5.41 20z\"/>\n",
              "  </svg>\n",
              "      </button>\n",
              "      \n",
              "  <style>\n",
              "    .colab-df-container {\n",
              "      display:flex;\n",
              "      flex-wrap:wrap;\n",
              "      gap: 12px;\n",
              "    }\n",
              "\n",
              "    .colab-df-convert {\n",
              "      background-color: #E8F0FE;\n",
              "      border: none;\n",
              "      border-radius: 50%;\n",
              "      cursor: pointer;\n",
              "      display: none;\n",
              "      fill: #1967D2;\n",
              "      height: 32px;\n",
              "      padding: 0 0 0 0;\n",
              "      width: 32px;\n",
              "    }\n",
              "\n",
              "    .colab-df-convert:hover {\n",
              "      background-color: #E2EBFA;\n",
              "      box-shadow: 0px 1px 2px rgba(60, 64, 67, 0.3), 0px 1px 3px 1px rgba(60, 64, 67, 0.15);\n",
              "      fill: #174EA6;\n",
              "    }\n",
              "\n",
              "    [theme=dark] .colab-df-convert {\n",
              "      background-color: #3B4455;\n",
              "      fill: #D2E3FC;\n",
              "    }\n",
              "\n",
              "    [theme=dark] .colab-df-convert:hover {\n",
              "      background-color: #434B5C;\n",
              "      box-shadow: 0px 1px 3px 1px rgba(0, 0, 0, 0.15);\n",
              "      filter: drop-shadow(0px 1px 2px rgba(0, 0, 0, 0.3));\n",
              "      fill: #FFFFFF;\n",
              "    }\n",
              "  </style>\n",
              "\n",
              "      <script>\n",
              "        const buttonEl =\n",
              "          document.querySelector('#df-b2df15b0-ecc0-41b8-a04a-4b4340db5ede button.colab-df-convert');\n",
              "        buttonEl.style.display =\n",
              "          google.colab.kernel.accessAllowed ? 'block' : 'none';\n",
              "\n",
              "        async function convertToInteractive(key) {\n",
              "          const element = document.querySelector('#df-b2df15b0-ecc0-41b8-a04a-4b4340db5ede');\n",
              "          const dataTable =\n",
              "            await google.colab.kernel.invokeFunction('convertToInteractive',\n",
              "                                                     [key], {});\n",
              "          if (!dataTable) return;\n",
              "\n",
              "          const docLinkHtml = 'Like what you see? Visit the ' +\n",
              "            '<a target=\"_blank\" href=https://colab.research.google.com/notebooks/data_table.ipynb>data table notebook</a>'\n",
              "            + ' to learn more about interactive tables.';\n",
              "          element.innerHTML = '';\n",
              "          dataTable['output_type'] = 'display_data';\n",
              "          await google.colab.output.renderOutput(dataTable, element);\n",
              "          const docLink = document.createElement('div');\n",
              "          docLink.innerHTML = docLinkHtml;\n",
              "          element.appendChild(docLink);\n",
              "        }\n",
              "      </script>\n",
              "    </div>\n",
              "  </div>\n",
              "  "
            ]
          },
          "metadata": {},
          "execution_count": 87
        }
      ],
      "source": [
        "listItem = []\n",
        "for col in df.columns :\n",
        "    listItem.append([col, df[col].dtype, df[col].isna().sum(),\n",
        "                    df[col].nunique(), list(df[col].drop_duplicates().sample(2).values)]);\n",
        "\n",
        "dfDesc = pd.DataFrame(columns=['dataFeatures', 'dataType', 'null', 'unique', 'uniqueSample'],\n",
        "                     data=listItem)\n",
        "print(df.shape)\n",
        "dfDesc"
      ]
    },
    {
      "cell_type": "markdown",
      "metadata": {
        "id": "UJXawpfVc47e"
      },
      "source": [
        "Sebelum dibersihkan, kita memiliki 1,048,575 baris data, sekarang kita memiliki 576,483 baris.\n",
        "* sekitar 470,000 baris data yang kosong dihapus karena merupakan baris kosong / kolom kosong\n",
        "* sekitar 160 data kosong dihapus karena memiliki persentase kecil yang tidak akan berpengaruh banyak pada analisis data."
      ]
    },
    {
      "cell_type": "markdown",
      "source": [
        "## Save Data"
      ],
      "metadata": {
        "id": "8BvXtaiBwl5R"
      }
    },
    {
      "cell_type": "markdown",
      "source": [
        "Simpan dataset bersih untuk dilakukan visualisasi dalam Tableau."
      ],
      "metadata": {
        "id": "MdAqoJJXw3SH"
      }
    },
    {
      "cell_type": "code",
      "source": [
        "# df.to_excel(\"Pakistan_Ecommerce.xlsx\")  "
      ],
      "metadata": {
        "id": "fphMgQjqwoI4"
      },
      "execution_count": 88,
      "outputs": []
    },
    {
      "cell_type": "markdown",
      "source": [
        "# Statistik"
      ],
      "metadata": {
        "id": "G6VFYyv7PEuJ"
      }
    },
    {
      "cell_type": "markdown",
      "source": [
        "Kita akan melakukan analisis statistik pada data untuk lebih mengerti data sehingga kita dapat meilih alat yang tepat untuk visualisasi data. Analisis statistik yang digunakan adalah analisis statistik deskriptif. analisis statistik pada data dibagi menjadi dua bagian, yaitu analisis pada data numerikal dan data kategorikal."
      ],
      "metadata": {
        "id": "wWAltuhTPIRD"
      }
    },
    {
      "cell_type": "markdown",
      "source": [
        "## Uji Statistik"
      ],
      "metadata": {
        "id": "Y5Gv3uLEWRRY"
      }
    },
    {
      "cell_type": "markdown",
      "source": [
        "Kita akan lakukan Uji Statistik untuk menentukan distribusi data pada tiap kolom. Kriteria Uji Statistik untuk distribusi data adalah:\n",
        "* Ho : sample terdistribusi normal\n",
        "* Ha : sample tidak terdistribusi normal\n",
        "\n",
        "* p-value >= 0.05 : accept Ho --> sample terdistribusi normal\n",
        "* p-value < 0.05 : reject Ho --> sample tidak terdistribusi normal (Ha)"
      ],
      "metadata": {
        "id": "DvKT2CLgYkg0"
      }
    },
    {
      "cell_type": "code",
      "source": [
        "def normal(kolom):\n",
        "    stat, pvalue = normaltest(kolom)\n",
        "    print(f'p-value {kolom.name} : {pvalue:.5f}' )\n",
        "    \n",
        "\n",
        "    if pvalue < 0.05:\n",
        "        print(f'Kolom {kolom.name} tidak terdistribusi normal\\n')\n",
        "    else:\n",
        "        print(f'Kolom {kolom.name} terdistribusi normal\\n')\n",
        " \n",
        "normal(df['price'])\n",
        "normal(df['qty_ordered'])\n",
        "normal(df['grand_total'])\n",
        "normal(df['discount_amount'])"
      ],
      "metadata": {
        "colab": {
          "base_uri": "https://localhost:8080/"
        },
        "id": "8FOXlnzKZyZA",
        "outputId": "9042592f-0c4f-4b46-d070-9c0f0acabf97"
      },
      "execution_count": 89,
      "outputs": [
        {
          "output_type": "stream",
          "name": "stdout",
          "text": [
            "p-value price : 0.00000\n",
            "Kolom price tidak terdistribusi normal\n",
            "\n",
            "p-value qty_ordered : 0.00000\n",
            "Kolom qty_ordered tidak terdistribusi normal\n",
            "\n",
            "p-value grand_total : 0.00000\n",
            "Kolom grand_total tidak terdistribusi normal\n",
            "\n",
            "p-value discount_amount : 0.00000\n",
            "Kolom discount_amount tidak terdistribusi normal\n",
            "\n"
          ]
        }
      ]
    },
    {
      "cell_type": "markdown",
      "source": [
        "## Analisis Statistik Deskriptif pada Data Numerikal"
      ],
      "metadata": {
        "id": "CSW7G0YnP5Jz"
      }
    },
    {
      "cell_type": "markdown",
      "source": [
        "### Measure of Central Tendency"
      ],
      "metadata": {
        "id": "Rqfwp4NtQazv"
      }
    },
    {
      "cell_type": "markdown",
      "source": [
        "Ukuran Pusatan Data yang sering digunakan adalah mean dan median. Karena data memiliki distribusi tidak normal maka digunakan median sebagai ukuran pusatan data yang tidak sensitif terhadap outliers."
      ],
      "metadata": {
        "id": "DBbboFhXQrsp"
      }
    },
    {
      "cell_type": "code",
      "source": [
        "df.describe().drop(['Year','Month'], axis=1).loc[['mean','50%']]"
      ],
      "metadata": {
        "colab": {
          "base_uri": "https://localhost:8080/",
          "height": 112
        },
        "id": "AtgAeAdFP9sQ",
        "outputId": "149a29b7-e331-4130-e28c-0121ffc1d849"
      },
      "execution_count": 90,
      "outputs": [
        {
          "output_type": "execute_result",
          "data": {
            "text/plain": [
              "            price  qty_ordered  grand_total  discount_amount\n",
              "mean  6380.638397  1.295197     8586.751933  503.303312     \n",
              "50%   900.000000   1.000000     1986.500000  0.000000       "
            ],
            "text/html": [
              "\n",
              "  <div id=\"df-79c3d7a1-5595-459b-8d8f-8b8fb5b3bfa2\">\n",
              "    <div class=\"colab-df-container\">\n",
              "      <div>\n",
              "<style scoped>\n",
              "    .dataframe tbody tr th:only-of-type {\n",
              "        vertical-align: middle;\n",
              "    }\n",
              "\n",
              "    .dataframe tbody tr th {\n",
              "        vertical-align: top;\n",
              "    }\n",
              "\n",
              "    .dataframe thead th {\n",
              "        text-align: right;\n",
              "    }\n",
              "</style>\n",
              "<table border=\"1\" class=\"dataframe\">\n",
              "  <thead>\n",
              "    <tr style=\"text-align: right;\">\n",
              "      <th></th>\n",
              "      <th>price</th>\n",
              "      <th>qty_ordered</th>\n",
              "      <th>grand_total</th>\n",
              "      <th>discount_amount</th>\n",
              "    </tr>\n",
              "  </thead>\n",
              "  <tbody>\n",
              "    <tr>\n",
              "      <th>mean</th>\n",
              "      <td>6380.638397</td>\n",
              "      <td>1.295197</td>\n",
              "      <td>8586.751933</td>\n",
              "      <td>503.303312</td>\n",
              "    </tr>\n",
              "    <tr>\n",
              "      <th>50%</th>\n",
              "      <td>900.000000</td>\n",
              "      <td>1.000000</td>\n",
              "      <td>1986.500000</td>\n",
              "      <td>0.000000</td>\n",
              "    </tr>\n",
              "  </tbody>\n",
              "</table>\n",
              "</div>\n",
              "      <button class=\"colab-df-convert\" onclick=\"convertToInteractive('df-79c3d7a1-5595-459b-8d8f-8b8fb5b3bfa2')\"\n",
              "              title=\"Convert this dataframe to an interactive table.\"\n",
              "              style=\"display:none;\">\n",
              "        \n",
              "  <svg xmlns=\"http://www.w3.org/2000/svg\" height=\"24px\"viewBox=\"0 0 24 24\"\n",
              "       width=\"24px\">\n",
              "    <path d=\"M0 0h24v24H0V0z\" fill=\"none\"/>\n",
              "    <path d=\"M18.56 5.44l.94 2.06.94-2.06 2.06-.94-2.06-.94-.94-2.06-.94 2.06-2.06.94zm-11 1L8.5 8.5l.94-2.06 2.06-.94-2.06-.94L8.5 2.5l-.94 2.06-2.06.94zm10 10l.94 2.06.94-2.06 2.06-.94-2.06-.94-.94-2.06-.94 2.06-2.06.94z\"/><path d=\"M17.41 7.96l-1.37-1.37c-.4-.4-.92-.59-1.43-.59-.52 0-1.04.2-1.43.59L10.3 9.45l-7.72 7.72c-.78.78-.78 2.05 0 2.83L4 21.41c.39.39.9.59 1.41.59.51 0 1.02-.2 1.41-.59l7.78-7.78 2.81-2.81c.8-.78.8-2.07 0-2.86zM5.41 20L4 18.59l7.72-7.72 1.47 1.35L5.41 20z\"/>\n",
              "  </svg>\n",
              "      </button>\n",
              "      \n",
              "  <style>\n",
              "    .colab-df-container {\n",
              "      display:flex;\n",
              "      flex-wrap:wrap;\n",
              "      gap: 12px;\n",
              "    }\n",
              "\n",
              "    .colab-df-convert {\n",
              "      background-color: #E8F0FE;\n",
              "      border: none;\n",
              "      border-radius: 50%;\n",
              "      cursor: pointer;\n",
              "      display: none;\n",
              "      fill: #1967D2;\n",
              "      height: 32px;\n",
              "      padding: 0 0 0 0;\n",
              "      width: 32px;\n",
              "    }\n",
              "\n",
              "    .colab-df-convert:hover {\n",
              "      background-color: #E2EBFA;\n",
              "      box-shadow: 0px 1px 2px rgba(60, 64, 67, 0.3), 0px 1px 3px 1px rgba(60, 64, 67, 0.15);\n",
              "      fill: #174EA6;\n",
              "    }\n",
              "\n",
              "    [theme=dark] .colab-df-convert {\n",
              "      background-color: #3B4455;\n",
              "      fill: #D2E3FC;\n",
              "    }\n",
              "\n",
              "    [theme=dark] .colab-df-convert:hover {\n",
              "      background-color: #434B5C;\n",
              "      box-shadow: 0px 1px 3px 1px rgba(0, 0, 0, 0.15);\n",
              "      filter: drop-shadow(0px 1px 2px rgba(0, 0, 0, 0.3));\n",
              "      fill: #FFFFFF;\n",
              "    }\n",
              "  </style>\n",
              "\n",
              "      <script>\n",
              "        const buttonEl =\n",
              "          document.querySelector('#df-79c3d7a1-5595-459b-8d8f-8b8fb5b3bfa2 button.colab-df-convert');\n",
              "        buttonEl.style.display =\n",
              "          google.colab.kernel.accessAllowed ? 'block' : 'none';\n",
              "\n",
              "        async function convertToInteractive(key) {\n",
              "          const element = document.querySelector('#df-79c3d7a1-5595-459b-8d8f-8b8fb5b3bfa2');\n",
              "          const dataTable =\n",
              "            await google.colab.kernel.invokeFunction('convertToInteractive',\n",
              "                                                     [key], {});\n",
              "          if (!dataTable) return;\n",
              "\n",
              "          const docLinkHtml = 'Like what you see? Visit the ' +\n",
              "            '<a target=\"_blank\" href=https://colab.research.google.com/notebooks/data_table.ipynb>data table notebook</a>'\n",
              "            + ' to learn more about interactive tables.';\n",
              "          element.innerHTML = '';\n",
              "          dataTable['output_type'] = 'display_data';\n",
              "          await google.colab.output.renderOutput(dataTable, element);\n",
              "          const docLink = document.createElement('div');\n",
              "          docLink.innerHTML = docLinkHtml;\n",
              "          element.appendChild(docLink);\n",
              "        }\n",
              "      </script>\n",
              "    </div>\n",
              "  </div>\n",
              "  "
            ]
          },
          "metadata": {},
          "execution_count": 90
        }
      ]
    },
    {
      "cell_type": "markdown",
      "source": [
        "Dapat kita simpulkan bahwa:\n",
        "* kolom `price` memiliki mean jauh lebih tinggi daripada median yang menandakan data skew ke kanan / banyak terdistribusi di kiri.\n",
        "* kolom `qty_ordered` memiliki mean lebih tinggi daripada median yang menandakan data skew ke kanan / banyak terdistribusi di kiri.\n",
        "* kolom `grand_total` memiliki mean jauh lebih tinggi daripada median yang menandakan data skew ke kanan / banyak terdistribusi di kiri.\n",
        "* kolom `discount_amount` memiliki mean jauh lebih tinggi daripada median yang menandakan data skew ke kanan / banyak terdistribusi di kiri.\n",
        "* kolom `Year` dan `Month` tidak diperhitungkan karena kolom tersebut berisi data tanggal."
      ],
      "metadata": {
        "id": "yfbW3pMuUksc"
      }
    },
    {
      "cell_type": "markdown",
      "source": [
        "### Measure of Spread"
      ],
      "metadata": {
        "id": "vhkFJyppQnG4"
      }
    },
    {
      "cell_type": "markdown",
      "source": [
        "Ukuran Sebaran Data yang sering digunakan adalah range, standar deviasi, dan Interquartile Range. Karena data memiliki distribusi tidak normal maka digunakan IQR sebagai ukuran sebaran data yang tidak sensitif terhadap outliers."
      ],
      "metadata": {
        "id": "2dEdo6xCUOxj"
      }
    },
    {
      "cell_type": "code",
      "source": [
        "measureOfSpread = df.describe().T\n",
        "measureOfSpread['range'] = measureOfSpread['max'] - measureOfSpread['min']\n",
        "measureOfSpread['IQR'] = measureOfSpread['75%'] - measureOfSpread['25%']\n",
        "measureOfSpread.drop(['Year','Month'], inplace=True)\n",
        "measureOfSpread[['std','range','IQR']]"
      ],
      "metadata": {
        "colab": {
          "base_uri": "https://localhost:8080/",
          "height": 175
        },
        "id": "saUz20o6RZCs",
        "outputId": "e3106d92-31f4-4b8c-94e5-4f47626b7d40"
      },
      "execution_count": 91,
      "outputs": [
        {
          "output_type": "execute_result",
          "data": {
            "text/plain": [
              "                          std       range        IQR\n",
              "price            15006.905758  1012625.9   3693.0000\n",
              "qty_ordered      3.997732      999.0       0.0000   \n",
              "grand_total      61731.689413  17889594.0  6046.0000\n",
              "discount_amount  1510.669717   90899.5     164.9782 "
            ],
            "text/html": [
              "\n",
              "  <div id=\"df-05148353-5cde-449f-90d4-e22779547479\">\n",
              "    <div class=\"colab-df-container\">\n",
              "      <div>\n",
              "<style scoped>\n",
              "    .dataframe tbody tr th:only-of-type {\n",
              "        vertical-align: middle;\n",
              "    }\n",
              "\n",
              "    .dataframe tbody tr th {\n",
              "        vertical-align: top;\n",
              "    }\n",
              "\n",
              "    .dataframe thead th {\n",
              "        text-align: right;\n",
              "    }\n",
              "</style>\n",
              "<table border=\"1\" class=\"dataframe\">\n",
              "  <thead>\n",
              "    <tr style=\"text-align: right;\">\n",
              "      <th></th>\n",
              "      <th>std</th>\n",
              "      <th>range</th>\n",
              "      <th>IQR</th>\n",
              "    </tr>\n",
              "  </thead>\n",
              "  <tbody>\n",
              "    <tr>\n",
              "      <th>price</th>\n",
              "      <td>15006.905758</td>\n",
              "      <td>1012625.9</td>\n",
              "      <td>3693.0000</td>\n",
              "    </tr>\n",
              "    <tr>\n",
              "      <th>qty_ordered</th>\n",
              "      <td>3.997732</td>\n",
              "      <td>999.0</td>\n",
              "      <td>0.0000</td>\n",
              "    </tr>\n",
              "    <tr>\n",
              "      <th>grand_total</th>\n",
              "      <td>61731.689413</td>\n",
              "      <td>17889594.0</td>\n",
              "      <td>6046.0000</td>\n",
              "    </tr>\n",
              "    <tr>\n",
              "      <th>discount_amount</th>\n",
              "      <td>1510.669717</td>\n",
              "      <td>90899.5</td>\n",
              "      <td>164.9782</td>\n",
              "    </tr>\n",
              "  </tbody>\n",
              "</table>\n",
              "</div>\n",
              "      <button class=\"colab-df-convert\" onclick=\"convertToInteractive('df-05148353-5cde-449f-90d4-e22779547479')\"\n",
              "              title=\"Convert this dataframe to an interactive table.\"\n",
              "              style=\"display:none;\">\n",
              "        \n",
              "  <svg xmlns=\"http://www.w3.org/2000/svg\" height=\"24px\"viewBox=\"0 0 24 24\"\n",
              "       width=\"24px\">\n",
              "    <path d=\"M0 0h24v24H0V0z\" fill=\"none\"/>\n",
              "    <path d=\"M18.56 5.44l.94 2.06.94-2.06 2.06-.94-2.06-.94-.94-2.06-.94 2.06-2.06.94zm-11 1L8.5 8.5l.94-2.06 2.06-.94-2.06-.94L8.5 2.5l-.94 2.06-2.06.94zm10 10l.94 2.06.94-2.06 2.06-.94-2.06-.94-.94-2.06-.94 2.06-2.06.94z\"/><path d=\"M17.41 7.96l-1.37-1.37c-.4-.4-.92-.59-1.43-.59-.52 0-1.04.2-1.43.59L10.3 9.45l-7.72 7.72c-.78.78-.78 2.05 0 2.83L4 21.41c.39.39.9.59 1.41.59.51 0 1.02-.2 1.41-.59l7.78-7.78 2.81-2.81c.8-.78.8-2.07 0-2.86zM5.41 20L4 18.59l7.72-7.72 1.47 1.35L5.41 20z\"/>\n",
              "  </svg>\n",
              "      </button>\n",
              "      \n",
              "  <style>\n",
              "    .colab-df-container {\n",
              "      display:flex;\n",
              "      flex-wrap:wrap;\n",
              "      gap: 12px;\n",
              "    }\n",
              "\n",
              "    .colab-df-convert {\n",
              "      background-color: #E8F0FE;\n",
              "      border: none;\n",
              "      border-radius: 50%;\n",
              "      cursor: pointer;\n",
              "      display: none;\n",
              "      fill: #1967D2;\n",
              "      height: 32px;\n",
              "      padding: 0 0 0 0;\n",
              "      width: 32px;\n",
              "    }\n",
              "\n",
              "    .colab-df-convert:hover {\n",
              "      background-color: #E2EBFA;\n",
              "      box-shadow: 0px 1px 2px rgba(60, 64, 67, 0.3), 0px 1px 3px 1px rgba(60, 64, 67, 0.15);\n",
              "      fill: #174EA6;\n",
              "    }\n",
              "\n",
              "    [theme=dark] .colab-df-convert {\n",
              "      background-color: #3B4455;\n",
              "      fill: #D2E3FC;\n",
              "    }\n",
              "\n",
              "    [theme=dark] .colab-df-convert:hover {\n",
              "      background-color: #434B5C;\n",
              "      box-shadow: 0px 1px 3px 1px rgba(0, 0, 0, 0.15);\n",
              "      filter: drop-shadow(0px 1px 2px rgba(0, 0, 0, 0.3));\n",
              "      fill: #FFFFFF;\n",
              "    }\n",
              "  </style>\n",
              "\n",
              "      <script>\n",
              "        const buttonEl =\n",
              "          document.querySelector('#df-05148353-5cde-449f-90d4-e22779547479 button.colab-df-convert');\n",
              "        buttonEl.style.display =\n",
              "          google.colab.kernel.accessAllowed ? 'block' : 'none';\n",
              "\n",
              "        async function convertToInteractive(key) {\n",
              "          const element = document.querySelector('#df-05148353-5cde-449f-90d4-e22779547479');\n",
              "          const dataTable =\n",
              "            await google.colab.kernel.invokeFunction('convertToInteractive',\n",
              "                                                     [key], {});\n",
              "          if (!dataTable) return;\n",
              "\n",
              "          const docLinkHtml = 'Like what you see? Visit the ' +\n",
              "            '<a target=\"_blank\" href=https://colab.research.google.com/notebooks/data_table.ipynb>data table notebook</a>'\n",
              "            + ' to learn more about interactive tables.';\n",
              "          element.innerHTML = '';\n",
              "          dataTable['output_type'] = 'display_data';\n",
              "          await google.colab.output.renderOutput(dataTable, element);\n",
              "          const docLink = document.createElement('div');\n",
              "          docLink.innerHTML = docLinkHtml;\n",
              "          element.appendChild(docLink);\n",
              "        }\n",
              "      </script>\n",
              "    </div>\n",
              "  </div>\n",
              "  "
            ]
          },
          "metadata": {},
          "execution_count": 91
        }
      ]
    },
    {
      "cell_type": "markdown",
      "source": [
        "## Analisis Statistik Deskriptif pada Data Kategorikal"
      ],
      "metadata": {
        "id": "d9Ing_dhV19C"
      }
    },
    {
      "cell_type": "markdown",
      "source": [
        "Kita dapat menggunakan method describe dengan parameter include='object' untuk mengetahui deskripsi statistik dari kolom data kategorikal."
      ],
      "metadata": {
        "id": "eRyfKHexWzN4"
      }
    },
    {
      "cell_type": "code",
      "source": [
        "df.describe(include='object')"
      ],
      "metadata": {
        "colab": {
          "base_uri": "https://localhost:8080/",
          "height": 175
        },
        "id": "Qj01UeINWeHi",
        "outputId": "00187c48-54ca-4aa8-bbc3-1582e24f46f0"
      },
      "execution_count": 92,
      "outputs": [
        {
          "output_type": "execute_result",
          "data": {
            "text/plain": [
              "          status  created_at    category_name_1 payment_method Working Date  \\\n",
              "count   576483    576483      576483             576483         576483        \n",
              "unique  15        789         15                 18             789           \n",
              "top     complete  11/25/2016  Mobiles & Tablets  cod            11/25/2016    \n",
              "freq    230456    14929       115709             267764         14929         \n",
              "\n",
              "       BI Status      MV Customer Since      M-Y      FY  \n",
              "count   576483    576483  576483         576483   576483  \n",
              "unique  3         9701    26             26       3       \n",
              "top     Net        999    2016-11        11-2017  FY18    \n",
              "freq    230948    9498    80889          83829    306219  "
            ],
            "text/html": [
              "\n",
              "  <div id=\"df-f458b59b-f705-472b-8d14-9d220f56201f\">\n",
              "    <div class=\"colab-df-container\">\n",
              "      <div>\n",
              "<style scoped>\n",
              "    .dataframe tbody tr th:only-of-type {\n",
              "        vertical-align: middle;\n",
              "    }\n",
              "\n",
              "    .dataframe tbody tr th {\n",
              "        vertical-align: top;\n",
              "    }\n",
              "\n",
              "    .dataframe thead th {\n",
              "        text-align: right;\n",
              "    }\n",
              "</style>\n",
              "<table border=\"1\" class=\"dataframe\">\n",
              "  <thead>\n",
              "    <tr style=\"text-align: right;\">\n",
              "      <th></th>\n",
              "      <th>status</th>\n",
              "      <th>created_at</th>\n",
              "      <th>category_name_1</th>\n",
              "      <th>payment_method</th>\n",
              "      <th>Working Date</th>\n",
              "      <th>BI Status</th>\n",
              "      <th>MV</th>\n",
              "      <th>Customer Since</th>\n",
              "      <th>M-Y</th>\n",
              "      <th>FY</th>\n",
              "    </tr>\n",
              "  </thead>\n",
              "  <tbody>\n",
              "    <tr>\n",
              "      <th>count</th>\n",
              "      <td>576483</td>\n",
              "      <td>576483</td>\n",
              "      <td>576483</td>\n",
              "      <td>576483</td>\n",
              "      <td>576483</td>\n",
              "      <td>576483</td>\n",
              "      <td>576483</td>\n",
              "      <td>576483</td>\n",
              "      <td>576483</td>\n",
              "      <td>576483</td>\n",
              "    </tr>\n",
              "    <tr>\n",
              "      <th>unique</th>\n",
              "      <td>15</td>\n",
              "      <td>789</td>\n",
              "      <td>15</td>\n",
              "      <td>18</td>\n",
              "      <td>789</td>\n",
              "      <td>3</td>\n",
              "      <td>9701</td>\n",
              "      <td>26</td>\n",
              "      <td>26</td>\n",
              "      <td>3</td>\n",
              "    </tr>\n",
              "    <tr>\n",
              "      <th>top</th>\n",
              "      <td>complete</td>\n",
              "      <td>11/25/2016</td>\n",
              "      <td>Mobiles &amp; Tablets</td>\n",
              "      <td>cod</td>\n",
              "      <td>11/25/2016</td>\n",
              "      <td>Net</td>\n",
              "      <td>999</td>\n",
              "      <td>2016-11</td>\n",
              "      <td>11-2017</td>\n",
              "      <td>FY18</td>\n",
              "    </tr>\n",
              "    <tr>\n",
              "      <th>freq</th>\n",
              "      <td>230456</td>\n",
              "      <td>14929</td>\n",
              "      <td>115709</td>\n",
              "      <td>267764</td>\n",
              "      <td>14929</td>\n",
              "      <td>230948</td>\n",
              "      <td>9498</td>\n",
              "      <td>80889</td>\n",
              "      <td>83829</td>\n",
              "      <td>306219</td>\n",
              "    </tr>\n",
              "  </tbody>\n",
              "</table>\n",
              "</div>\n",
              "      <button class=\"colab-df-convert\" onclick=\"convertToInteractive('df-f458b59b-f705-472b-8d14-9d220f56201f')\"\n",
              "              title=\"Convert this dataframe to an interactive table.\"\n",
              "              style=\"display:none;\">\n",
              "        \n",
              "  <svg xmlns=\"http://www.w3.org/2000/svg\" height=\"24px\"viewBox=\"0 0 24 24\"\n",
              "       width=\"24px\">\n",
              "    <path d=\"M0 0h24v24H0V0z\" fill=\"none\"/>\n",
              "    <path d=\"M18.56 5.44l.94 2.06.94-2.06 2.06-.94-2.06-.94-.94-2.06-.94 2.06-2.06.94zm-11 1L8.5 8.5l.94-2.06 2.06-.94-2.06-.94L8.5 2.5l-.94 2.06-2.06.94zm10 10l.94 2.06.94-2.06 2.06-.94-2.06-.94-.94-2.06-.94 2.06-2.06.94z\"/><path d=\"M17.41 7.96l-1.37-1.37c-.4-.4-.92-.59-1.43-.59-.52 0-1.04.2-1.43.59L10.3 9.45l-7.72 7.72c-.78.78-.78 2.05 0 2.83L4 21.41c.39.39.9.59 1.41.59.51 0 1.02-.2 1.41-.59l7.78-7.78 2.81-2.81c.8-.78.8-2.07 0-2.86zM5.41 20L4 18.59l7.72-7.72 1.47 1.35L5.41 20z\"/>\n",
              "  </svg>\n",
              "      </button>\n",
              "      \n",
              "  <style>\n",
              "    .colab-df-container {\n",
              "      display:flex;\n",
              "      flex-wrap:wrap;\n",
              "      gap: 12px;\n",
              "    }\n",
              "\n",
              "    .colab-df-convert {\n",
              "      background-color: #E8F0FE;\n",
              "      border: none;\n",
              "      border-radius: 50%;\n",
              "      cursor: pointer;\n",
              "      display: none;\n",
              "      fill: #1967D2;\n",
              "      height: 32px;\n",
              "      padding: 0 0 0 0;\n",
              "      width: 32px;\n",
              "    }\n",
              "\n",
              "    .colab-df-convert:hover {\n",
              "      background-color: #E2EBFA;\n",
              "      box-shadow: 0px 1px 2px rgba(60, 64, 67, 0.3), 0px 1px 3px 1px rgba(60, 64, 67, 0.15);\n",
              "      fill: #174EA6;\n",
              "    }\n",
              "\n",
              "    [theme=dark] .colab-df-convert {\n",
              "      background-color: #3B4455;\n",
              "      fill: #D2E3FC;\n",
              "    }\n",
              "\n",
              "    [theme=dark] .colab-df-convert:hover {\n",
              "      background-color: #434B5C;\n",
              "      box-shadow: 0px 1px 3px 1px rgba(0, 0, 0, 0.15);\n",
              "      filter: drop-shadow(0px 1px 2px rgba(0, 0, 0, 0.3));\n",
              "      fill: #FFFFFF;\n",
              "    }\n",
              "  </style>\n",
              "\n",
              "      <script>\n",
              "        const buttonEl =\n",
              "          document.querySelector('#df-f458b59b-f705-472b-8d14-9d220f56201f button.colab-df-convert');\n",
              "        buttonEl.style.display =\n",
              "          google.colab.kernel.accessAllowed ? 'block' : 'none';\n",
              "\n",
              "        async function convertToInteractive(key) {\n",
              "          const element = document.querySelector('#df-f458b59b-f705-472b-8d14-9d220f56201f');\n",
              "          const dataTable =\n",
              "            await google.colab.kernel.invokeFunction('convertToInteractive',\n",
              "                                                     [key], {});\n",
              "          if (!dataTable) return;\n",
              "\n",
              "          const docLinkHtml = 'Like what you see? Visit the ' +\n",
              "            '<a target=\"_blank\" href=https://colab.research.google.com/notebooks/data_table.ipynb>data table notebook</a>'\n",
              "            + ' to learn more about interactive tables.';\n",
              "          element.innerHTML = '';\n",
              "          dataTable['output_type'] = 'display_data';\n",
              "          await google.colab.output.renderOutput(dataTable, element);\n",
              "          const docLink = document.createElement('div');\n",
              "          docLink.innerHTML = docLinkHtml;\n",
              "          element.appendChild(docLink);\n",
              "        }\n",
              "      </script>\n",
              "    </div>\n",
              "  </div>\n",
              "  "
            ]
          },
          "metadata": {},
          "execution_count": 92
        }
      ]
    },
    {
      "cell_type": "markdown",
      "metadata": {
        "id": "ev4DD2xEc47f"
      },
      "source": [
        "# Data Analysis"
      ]
    },
    {
      "cell_type": "markdown",
      "source": [
        "## Distribusi Kolom Price"
      ],
      "metadata": {
        "id": "qUH-KaKxgdTp"
      }
    },
    {
      "cell_type": "markdown",
      "source": [
        "Untuk mengetahui karakteristik dari harga transaki maka kita perlu melihat distribusi dari kolom price terlebih dahulu."
      ],
      "metadata": {
        "id": "rMEIYQIzfM3l"
      }
    },
    {
      "cell_type": "code",
      "source": [
        "plt.figure(figsize=(18,9))\n",
        "sns.distplot(df['price'])\n",
        "plt.title('Price Histogram for Pakistan E-Commerce')\n",
        "plt.show()"
      ],
      "metadata": {
        "colab": {
          "base_uri": "https://localhost:8080/",
          "height": 567
        },
        "id": "B9LQ-Uqke8kR",
        "outputId": "b90b7179-6348-460e-b32e-3a995a7c67bb"
      },
      "execution_count": 93,
      "outputs": [
        {
          "output_type": "display_data",
          "data": {
            "text/plain": [
              "<Figure size 1296x648 with 1 Axes>"
            ],
            "image/png": "[encoded data removed]"
          },
          "metadata": {
            "needs_background": "light"
          }
        }
      ]
    },
    {
      "cell_type": "markdown",
      "source": [
        "Analisis:\n",
        "* distribusi price memiliki positive skew yang sangat tinggi menandakan bahwa jumlah transaksi pada harga yang murah jauh lebih banyak daripada harga yang mahal.\n",
        "\n",
        "Rekomendasi:\n",
        "* Perusahaan perlu meningkatkan jumlah barang dengan harga yang murah untuk meningkatkan jumlah transaksi karena harga yang tinggi kurang diminati."
      ],
      "metadata": {
        "id": "KlXwfN-mfmis"
      }
    },
    {
      "cell_type": "markdown",
      "source": [
        "## Sales Berdasarkan Waktu"
      ],
      "metadata": {
        "id": "-X686NpQgqVd"
      }
    },
    {
      "cell_type": "code",
      "source": [
        "plt.figure(figsize = (18,9))\n",
        "sns.lineplot(data=df, x='M-Y', y='grand_total', estimator='sum')\n",
        "plt.xticks(rotation=90)\n",
        "plt.show()"
      ],
      "metadata": {
        "colab": {
          "base_uri": "https://localhost:8080/",
          "height": 594
        },
        "id": "cLbuOIQOgxUj",
        "outputId": "7efe34c5-e719-4bb0-f3d8-c47fadf581e8"
      },
      "execution_count": 94,
      "outputs": [
        {
          "output_type": "display_data",
          "data": {
            "text/plain": [
              "<Figure size 1296x648 with 1 Axes>"
            ],
            "image/png": "[encoded data removed]"
          },
          "metadata": {
            "needs_background": "light"
          }
        }
      ]
    },
    {
      "cell_type": "markdown",
      "source": [
        "Analisis:\n",
        "* Penjualan paling banyak ada di bulan November 2017.\n",
        "* grafik penjualan memiliki fluktuasi sampai ke pertengahan tahun 2017 lalu grafik mengalami siklus naik turun namun konsisten tinggi di bulan 11 dan bulan 5\n",
        "\n",
        "Rekomendasi:\n",
        "* Perusahaan perlu mengubah strategi penjualan agar dapat meningkatkan penjualan seiring waktu sehingga perusahaan dapat sustain dalam jangka waktu yang lama\n",
        "* Perusahaan perlu meningkatkan produksi barang pada bulan Mei dan November untuk memaksimalkan potensi dari tren penjualan tahunan."
      ],
      "metadata": {
        "id": "Gvamncqlu4vv"
      }
    },
    {
      "cell_type": "markdown",
      "source": [
        "## Sales dan Jumlah Transaksi Berdasarkan Kategori"
      ],
      "metadata": {
        "id": "tU_izxoPkexh"
      }
    },
    {
      "cell_type": "code",
      "source": [
        "sales_per_kategori = df[['grand_total','category_name_1']].groupby('category_name_1').sum().reset_index()\n",
        "jumlah_transaksi_per_kategori = df[['qty_ordered','category_name_1']].groupby('category_name_1').sum().reset_index()\n",
        "plt.figure(figsize = (18,9))\n",
        "ax1 = plt.subplot(211)\n",
        "sns.barplot(data=sales_per_kategori, y='grand_total', x='category_name_1', order=sales_per_kategori.sort_values('grand_total',ascending=False)['category_name_1'])\n",
        "ax2 = plt.subplot(212)\n",
        "sns.barplot(data=jumlah_transaksi_per_kategori, y='qty_ordered', x='category_name_1', order=jumlah_transaksi_per_kategori.sort_values('qty_ordered',ascending=False)['category_name_1'])\n",
        "plt.xticks(rotation=90)\n",
        "plt.show()"
      ],
      "metadata": {
        "colab": {
          "base_uri": "https://localhost:8080/",
          "height": 651
        },
        "id": "oyc_OM1A5-dk",
        "outputId": "342c4658-63a5-4e86-eb80-5733de94294f"
      },
      "execution_count": 95,
      "outputs": [
        {
          "output_type": "display_data",
          "data": {
            "text/plain": [
              "<Figure size 1296x648 with 2 Axes>"
            ],
            "image/png": "[encoded data removed]"
          },
          "metadata": {
            "needs_background": "light"
          }
        }
      ]
    },
    {
      "cell_type": "markdown",
      "source": [
        "Analisis:\n",
        "* Penjualan dan jumlah pembelian tertinggi ada pada kategori Mobiles & Tablets.\n",
        "* Jumlah pembelian yang tinggi tidak menandakan penjualan yang tinggi terkecuali untuk kategori Mobiles & Tablets.\n",
        "\n",
        "Rekomendasi:\n",
        "* Perusahaan perlu menyediakan lebih banyak stok barang pada kategory Mobiles & Tablets untuk meningkatkan nilai penjualan.\n",
        "* Perusahaan perlu strategi marketing lebih baik untuk kategori dengan nilai penjualan tinggi seperti Appliances dan Entertainment sehingga memiliki jumlah pembelian yang lebih tinggi untuk meningkatkan nilai penjualan."
      ],
      "metadata": {
        "id": "YWPW4s4PkaDY"
      }
    },
    {
      "cell_type": "markdown",
      "source": [
        "## Sales Berdasarkan Metode Pembayaran"
      ],
      "metadata": {
        "id": "vSpjowntnglP"
      }
    },
    {
      "cell_type": "code",
      "source": [
        "sales_per_kategori = df[['grand_total','payment_method']].groupby('payment_method').sum().reset_index()\n",
        "plt.figure(figsize = (18,9))\n",
        "sns.barplot(data=sales_per_kategori, y='grand_total', x='payment_method', order=sales_per_kategori.sort_values('grand_total',ascending=False)['payment_method'])\n",
        "plt.xticks(rotation=90)\n",
        "plt.show()"
      ],
      "metadata": {
        "colab": {
          "base_uri": "https://localhost:8080/",
          "height": 646
        },
        "id": "NvopMJBMnD2j",
        "outputId": "479199c5-b99c-4cbc-dfe8-9b67985be738"
      },
      "execution_count": 97,
      "outputs": [
        {
          "output_type": "display_data",
          "data": {
            "text/plain": [
              "<Figure size 1296x648 with 1 Axes>"
            ],
            "image/png": "[encoded data removed]"
          },
          "metadata": {
            "needs_background": "light"
          }
        }
      ]
    },
    {
      "cell_type": "markdown",
      "source": [
        "Analisis:\n",
        "* dengan menggabungkan nilai dari kolom-kolom easypay, easypay memiliki nilai penjualan yang paling tinggi.\n",
        "* Tiga metode pembayaran yang paling banyak profit adalah Easypay, COD, dan Payaxis.\n",
        "\n",
        "Rekomendasi:\n",
        "* Perusahaan perlu menerapkan ketiga metode pembayaran yaitu melalui Easypay, COD, dan Payaxis untuk memaksimalkan potensi penjualan."
      ],
      "metadata": {
        "id": "yVS3axm_nbQY"
      }
    },
    {
      "cell_type": "markdown",
      "source": [
        "## Sales dan Diskon Berdasarkan Bulan"
      ],
      "metadata": {
        "id": "j677Qfxyp2gw"
      }
    },
    {
      "cell_type": "code",
      "source": [
        "rata2_sales_per_bulan = df[['grand_total','Month']].groupby('Month').mean().reset_index()\n",
        "rata2_diskon_per_bulan = df[['discount_amount','Month']].groupby('Month').mean().reset_index()\n",
        "plt.figure(figsize = (18,9))\n",
        "ax1 = plt.subplot(211)\n",
        "sns.barplot(data=rata2_sales_per_bulan, y='grand_total', x='Month')\n",
        "ax2 = plt.subplot(212)\n",
        "sns.barplot(data=rata2_diskon_per_bulan, y='discount_amount', x='Month')\n",
        "plt.xticks(rotation=90)\n",
        "plt.show()"
      ],
      "metadata": {
        "colab": {
          "base_uri": "https://localhost:8080/",
          "height": 563
        },
        "id": "tiMDdcV8pHnD",
        "outputId": "41491063-a2be-4cef-9f0c-1cf76bcfac09"
      },
      "execution_count": 100,
      "outputs": [
        {
          "output_type": "display_data",
          "data": {
            "text/plain": [
              "<Figure size 1296x648 with 2 Axes>"
            ],
            "image/png": "[encoded data removed]"
          },
          "metadata": {
            "needs_background": "light"
          }
        }
      ]
    },
    {
      "cell_type": "markdown",
      "source": [
        "Analisis:\n",
        "* Rata-rata penjualan di setiap bulan tidak memiliki perubahan yang signifikan.\n",
        "* rata-rata diskon tertinggi berturut-turut di bulan Februari, Mei, November.\n",
        "* rata-rata diskon yang tinggi pada bulan Mei dan November menjelaskan tingginya penjualan di kedua bulan tersebut pada grafik Sales Berdasarkan Waktu.\n",
        "\n",
        "Rekomendasi:\n",
        "* Perusahaan perlu menekankan diskon di bulan Mei dan November untuk meningkatkan penjualan.\n",
        "* Perusahaan perlu mengurangi diskon di bulan Februari untuk mengurasi pengurangan nilai penjualan."
      ],
      "metadata": {
        "id": "2KL0PureqJiL"
      }
    },
    {
      "cell_type": "markdown",
      "source": [
        "# Kesimpulan"
      ],
      "metadata": {
        "id": "4Zud_eQKripg"
      }
    },
    {
      "cell_type": "markdown",
      "source": [
        "Untuk menjawab pertanyaan:\n",
        "* Bagaimanakah cara untuk meningkatkan nilai penjualan?\n",
        "\n",
        "Rekomendasi yang saya berikan dari analisis pada dataset Pakistan's Largest E-Commerce Dataset adalah sebagai berikut:\n",
        "1. Perusahaan perlu meningkatkan jumlah barang dengan harga yang murah untuk meningkatkan jumlah transaksi karena harga yang tinggi kurang diminati.\n",
        "1. Perusahaan perlu mengubah strategi penjualan agar dapat meningkatkan penjualan seiring waktu sehingga perusahaan dapat sustain dalam jangka waktu yang lama\n",
        "1. Perusahaan perlu meningkatkan produksi barang pada bulan Mei dan November untuk memaksimalkan potensi dari tren penjualan tahunan.\n",
        "1. Perusahaan perlu menyediakan lebih banyak stok barang pada kategory Mobiles & Tablets untuk meningkatkan nilai penjualan.\n",
        "1. Perusahaan perlu strategi marketing lebih baik untuk kategori dengan nilai penjualan tinggi seperti Appliances dan Entertainment sehingga memiliki jumlah pembelian yang lebih tinggi untuk meningkatkan nilai penjualan.\n",
        "1. Perusahaan perlu menerapkan ketiga metode pembayaran yaitu melalui Easypay, COD, dan Payaxis untuk memaksimalkan potensi penjualan.\n",
        "1. Perusahaan perlu menekankan diskon di bulan Mei dan November untuk meningkatkan penjualan.\n",
        "1. Perusahaan perlu mengurangi diskon di bulan Februari untuk mengurasi pengurangan nilai penjualan."
      ],
      "metadata": {
        "id": "MOrrwa18rkyw"
      }
    }
  ],
  "metadata": {
    "interpreter": {
      "hash": "80958af0b2c7e30a8333934f9c7842f006b76b43d0e26bb185679ef48b27f628"
    },
    "kernelspec": {
      "display_name": "Python 3.8.3 ('base')",
      "language": "python",
      "name": "python3"
    },
    "language_info": {
      "codemirror_mode": {
        "name": "ipython",
        "version": 3
      },
      "file_extension": ".py",
      "mimetype": "text/x-python",
      "name": "python",
      "nbconvert_exporter": "python",
      "pygments_lexer": "ipython3",
      "version": "3.8.3"
    },
    "orig_nbformat": 4,
    "colab": {
      "provenance": [],
      "toc_visible": true,
      "collapsed_sections": []
    }
  },
  "nbformat": 4,
  "nbformat_minor": 0
}